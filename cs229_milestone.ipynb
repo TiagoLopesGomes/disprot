{
 "cells": [
  {
   "cell_type": "code",
   "execution_count": 1,
   "metadata": {
    "collapsed": true
   },
   "outputs": [],
   "source": [
    "# standard libraries\n",
    "import re, gzip, os, platform\n",
    "from io import StringIO\n",
    "\n",
    "# packages\n",
    "import numpy as np\n",
    "import pandas as pd\n",
    "import matplotlib.pyplot as plt\n",
    "import sklearn.svm\n",
    "import sklearn.ensemble\n",
    "import sklearn.metrics\n",
    "import requests"
   ]
  },
  {
   "cell_type": "markdown",
   "metadata": {},
   "source": [
    "## Read data and data pre-processing"
   ]
  },
  {
   "cell_type": "code",
   "execution_count": 2,
   "metadata": {
    "collapsed": true
   },
   "outputs": [],
   "source": [
    "if platform.system() == 'Linux':\n",
    "    projectDir = os.path.join(os.environ['HOME'], 'projects', 'IDP_PPI_Prediction')\n",
    "else:\n",
    "    projectDir = 'D:\\\\OneDrive\\\\Documents\\\\College (Stanford)\\\\2018-19 Coterm\\\\Q1 Autumn\\\\CS 229\\\\Project\\\\IDP_PPI_Prediction'\n",
    "projectDir"
   ]
  },
  {
   "cell_type": "code",
   "execution_count": 3,
   "metadata": {
    "collapsed": true
   },
   "outputs": [],
   "source": [
    "# Script parameters\n",
    "# - save: bool\n",
    "#     Save processed data or just read data\n",
    "# - compression: str (e.g., 'gzip')\n",
    "#     Compression to apply when saving processed data files. Set to None to disable\n",
    "# - show_df: bool\n",
    "#     Display DataFrames in the notebook after reading and processing data\n",
    "# - save_kwargs: dict\n",
    "#     Common arguments to pass to pandas.DataFrame.to_csv() when saving processed data\n",
    "\n",
    "save = True\n",
    "compression = 'gzip'\n",
    "show_df = False\n",
    "save_kwargs = {'sep': '\\t', 'index': False, 'compression': compression}"
   ]
  },
  {
   "cell_type": "code",
   "execution_count": 4,
   "metadata": {
    "collapsed": true
   },
   "outputs": [],
   "source": [
    "# raw data file names\n",
    "dirDataRaw = os.path.join(projectDir, 'data', 'raw')\n",
    "raw_datasets = os.path.join(dirDataRaw, '41598_2018_28815_MOESM2_ESM.xlsx')\n",
    "raw_proteome = os.path.join(dirDataRaw, 'UP000005640_9606.fasta.gz')\n",
    "raw_hippie = os.path.join(dirDataRaw, 'hippie_current.txt.gz')\n",
    "raw_disprot = os.path.join(dirDataRaw, 'disprot.csv.gz')\n",
    "\n",
    "# processed data file names\n",
    "ext = ('' if compression is None else '.gz')\n",
    "dirDataProc = os.path.join(projectDir, 'data', 'proc')\n",
    "proc_trainsets = os.path.join(dirDataProc, 'trainset{:02d}.tsv' + ext)\n",
    "proc_testsets = os.path.join(dirDataProc, 'testset{:02d}.tsv' + ext)\n",
    "proc_proteome = os.path.join(dirDataProc, 'UP000005640_9606.tsv' + ext)\n",
    "proc_hippie = os.path.join(dirDataProc, 'hippie.tsv' + ext)\n",
    "proc_disprot = os.path.join(dirDataProc, 'disprot.tsv' + ext)"
   ]
  },
  {
   "cell_type": "markdown",
   "metadata": {},
   "source": [
    "Datasets (training and test) from [Perovic et al.](https://doi.org/10.1038/s41598-018-28815-x)"
   ]
  },
  {
   "cell_type": "code",
   "execution_count": null,
   "metadata": {
    "collapsed": true
   },
   "outputs": [],
   "source": [
    "xlsx = pd.ExcelFile(raw_datasets)\n",
    "num_datasets = 5\n",
    "for i in range(num_datasets):\n",
    "    # many sheet names have trailing whitespace\n",
    "    train_sheet_name = 'Table S' + str(i+7) + '-DisorderTrainSet' + str(i+1)\n",
    "    train_sheet_name = np.where([name.startswith(train_sheet_name) for name in xlsx.sheet_names])[0][0]\n",
    "    test_sheet_name = 'Table S' + str(i+12) + '-DisorderTestSet' + str(i+1)\n",
    "    test_sheet_name = np.where([name.startswith(test_sheet_name) for name in xlsx.sheet_names])[0][0]\n",
    "    \n",
    "    trainset = pd.read_excel(xlsx, sheet_name=train_sheet_name)\n",
    "    trainset = trainset.iloc[:,0].str.split(expand=True)\n",
    "    trainset.columns = ['label', 'p1_uniprotName', 'p2_uniprotName']\n",
    "    \n",
    "    testset = pd.read_excel(xlsx, sheet_name=test_sheet_name)\n",
    "    testset = testset.iloc[:,0].str.split(expand=True)\n",
    "    testset.columns = ['label', 'p1_uniprotName', 'p2_uniprotName']\n",
    "    \n",
    "    if save:\n",
    "        trainset.to_csv(proc_trainsets.format(i+1), **save_kwargs)\n",
    "        testset.to_csv(proc_testsets.format(i+1), **save_kwargs)\n",
    "del xlsx"
   ]
  },
  {
   "cell_type": "markdown",
   "metadata": {},
   "source": [
    "Hippie database: protein-protein interactions"
   ]
  },
  {
   "cell_type": "code",
   "execution_count": null,
   "metadata": {
    "collapsed": true,
    "scrolled": true
   },
   "outputs": [],
   "source": [
    "db_hippie = pd.read_csv(raw_hippie, sep='\\t', header=None)\n",
    "db_hippie.columns = ['p1_uniprotName', 'p1_entrezID', 'p2_uniprotName', 'p2_entrezID', 'score', 'evidence']\n",
    "if save:\n",
    "    db_hippie.to_csv(proc_hippie, **save_kwargs)\n",
    "if show_df:\n",
    "    display(db_hippie)"
   ]
  },
  {
   "cell_type": "markdown",
   "metadata": {},
   "source": [
    "Disprot database: protein disorder"
   ]
  },
  {
   "cell_type": "code",
   "execution_count": null,
   "metadata": {
    "collapsed": true
   },
   "outputs": [],
   "source": [
    "db_disprot = pd.read_csv(raw_disprot)\n",
    "\n",
    "# map UniProt accession values (e.g., 'O14832') to UniProt entry names (aka UniProt IDs) (e.g., 'PAHX_HUMAN')\n",
    "url = 'https://www.uniprot.org/uploadlists/'\n",
    "params = {\n",
    "    'from': 'ACC',\n",
    "    'to': 'ID',\n",
    "    'format': 'tab',\n",
    "    'query': ' '.join(db_disprot['uniprot_accession'].values.tolist())\n",
    "}\n",
    "r = requests.post(url, data = params)\n",
    "uniprotIdToName = pd.read_csv(StringIO(r.text), sep='\\t', index_col='From')\n",
    "\n",
    "db_disprot['uniprot_name'] = uniprotIdToName.loc[db_disprot['uniprot_accession'], 'To'].values\n",
    "if save:\n",
    "    db_disprot.to_csv(proc_disprot, **save_kwargs)\n",
    "if show_df:\n",
    "    display(db_disprot)"
   ]
  },
  {
   "cell_type": "markdown",
   "metadata": {},
   "source": [
    "UniProt database: canonical protein sequences"
   ]
  },
  {
   "cell_type": "code",
   "execution_count": null,
   "metadata": {
    "collapsed": true
   },
   "outputs": [],
   "source": [
    "def parseUniProtHeader(header, header_prefix='>'):\n",
    "    '''\n",
    "    Parse UniProt FASTA header. See https://www.uniprot.org/help/fasta-headers.\n",
    "    \n",
    "    Args:\n",
    "    - header: str\n",
    "        FASTA header line\n",
    "    - header_prefix: str. default='>'\n",
    "        FASTA header line prefix\n",
    "    \n",
    "    Returns: dict\n",
    "      Map of metadata of protein sequence.\n",
    "      Keys: db, id, uniprotName, proteinName, os, ox, gn (may be empty), pe, sv\n",
    "    '''\n",
    "    \n",
    "    # strip whitespace and prefix\n",
    "    header = header.strip()\n",
    "    if header.startswith(header_prefix):\n",
    "        header = header[len(header_prefix):]\n",
    "    \n",
    "    # extract gene name if present\n",
    "    split = re.split(r'GN=(?P<gn>.*)(?=\\sPE=)\\s+', header)\n",
    "    m_gn = ''\n",
    "    if len(split) not in [1,3]:\n",
    "        raise\n",
    "    if len(split) > 1:\n",
    "        m_gn = split[1]\n",
    "        header = split[0] + split[2]\n",
    "    \n",
    "    # extract other variables\n",
    "    p = re.compile(r'(?P<db>sp|tr)\\|(?P<id>[^|]+)\\|(?P<uniprotName>\\S+)\\s+'\n",
    "                   + r'(?P<proteinName>.*(?=\\sOS=)) '\n",
    "                   + r'OS=(?P<os>.*(?=\\sOX=))\\s+'\n",
    "                   + r'OX=(?P<ox>.*(?=\\sPE=))\\s+'\n",
    "                   + r'PE=(?P<pe>.*(?=\\sSV=))\\s+'\n",
    "                   + r'SV=(?P<sv>.*)')\n",
    "    m = p.match(header)\n",
    "    \n",
    "    # extract regex match to dict\n",
    "    data = m.groupdict()\n",
    "    \n",
    "    # add gene name if present\n",
    "    data['gn'] = m_gn\n",
    "    \n",
    "    # remove leading/trailing whitespace from each value in dict\n",
    "    data = {key: value.strip() for key, value in data.items()}\n",
    "    \n",
    "    return data\n",
    "\n",
    "def fastaToDF(file, save='', header_prefix='>', headerParser=parseUniProtHeader, **kwargs):\n",
    "    '''\n",
    "    Parse FASTA file into pandas DataFrame.\n",
    "    \n",
    "    Args:\n",
    "    - file: str\n",
    "        Path to FASTA file. Gzip-compressed files (i.e., with extension '.gz') are accepted.\n",
    "    - save: str. default=''\n",
    "        Path to save DataFrame\n",
    "    - header_prefix: str. default='>'\n",
    "        FASTA header line prefix\n",
    "    - headerParser: function. default = parseUniProtHeader\n",
    "        Function to parse header line into dict\n",
    "    - **kwargs\n",
    "        Additional keyword arguments to pass to pandas.DataFrame.to_csv() if saving DataFrame.\n",
    "    \n",
    "    Returns: pandas.DataFrame\n",
    "      Rows: protein / DNA entries\n",
    "      Columns: data about entries. Always includes 'seq' (sequence) column.\n",
    "    '''\n",
    "    \n",
    "    if file.endswith('.gz'):\n",
    "        f = gzip.open(file, mode='rt')\n",
    "    else:\n",
    "        f = open(file)\n",
    "    \n",
    "    entries = []\n",
    "    entry = {'seq': ''}\n",
    "    while True:\n",
    "        # read 1 line at a time to avoid memory overflow\n",
    "        line = f.readline()\n",
    "\n",
    "        if line == '':\n",
    "            break\n",
    "\n",
    "        if line.startswith(header_prefix):\n",
    "            # add previous entry to running list of entries\n",
    "            if entry['seq'] is not '':\n",
    "                # add sequence to entry\n",
    "                entries.append(entry)\n",
    "            \n",
    "            # parse new entry\n",
    "            entry = headerParser(line)\n",
    "            entry['seq'] = ''\n",
    "        else:\n",
    "            entry['seq'] += line.strip()\n",
    "    f.close()\n",
    "    \n",
    "    df = pd.DataFrame(entries)\n",
    "    if save is not '':\n",
    "        df.to_csv(save, **kwargs)\n",
    "    \n",
    "    # construct pandas DataFrame from list of dicts\n",
    "    return pd.DataFrame(entries)\n",
    "\n",
    "db_uniprot = fastaToDF(raw_proteome, save=(proc_proteome if save else ''), **save_kwargs)\n",
    "if show_df:\n",
    "    display(db_uniprot)"
   ]
  },
  {
   "cell_type": "markdown",
   "metadata": {},
   "source": [
    "## Featurization\n",
    "\n",
    "Requires R package protr"
   ]
  },
  {
   "cell_type": "raw",
   "metadata": {},
   "source": [
    "featurize_script = os.path.join(projectDir, 'scripts', 'featurize.R')\n",
    "!Rscript $featurize_script"
   ]
  },
  {
   "cell_type": "markdown",
   "metadata": {},
   "source": [
    "## Training"
   ]
  },
  {
   "cell_type": "code",
   "execution_count": 5,
   "metadata": {},
   "outputs": [
    {
     "data": {
      "text/plain": [
       "[('train_features01.tsv.gz', 'train_labels01.txt.gz'),\n",
       " ('train_features02.tsv.gz', 'train_labels02.txt.gz'),\n",
       " ('train_features03.tsv.gz', 'train_labels03.txt.gz'),\n",
       " ('train_features04.tsv.gz', 'train_labels04.txt.gz'),\n",
       " ('train_features05.tsv.gz', 'train_labels05.txt.gz')]"
      ]
     },
     "metadata": {},
     "output_type": "display_data"
    },
    {
     "data": {
      "text/plain": [
       "[('test_features01.tsv.gz', 'test_labels01.txt.gz'),\n",
       " ('test_features02.tsv.gz', 'test_labels02.txt.gz'),\n",
       " ('test_features03.tsv.gz', 'test_labels03.txt.gz'),\n",
       " ('test_features04.tsv.gz', 'test_labels04.txt.gz'),\n",
       " ('test_features05.tsv.gz', 'test_labels05.txt.gz')]"
      ]
     },
     "metadata": {},
     "output_type": "display_data"
    }
   ],
   "source": [
    "regex_train_features = re.compile(r'train_features\\d+')\n",
    "regex_train_labels = re.compile(r'train_labels\\d+')\n",
    "regex_test_features = re.compile(r'test_features\\d+')\n",
    "regex_test_labels = re.compile(r'test_labels\\d+')\n",
    "\n",
    "datasets_train = list(zip(list(filter(regex_train_features.match, os.listdir(dirDataProc))),\n",
    "                          list(filter(regex_train_labels.match, os.listdir(dirDataProc)))))\n",
    "datasets_test = list(zip(list(filter(regex_test_features.match, os.listdir(dirDataProc))),\n",
    "                         list(filter(regex_test_labels.match, os.listdir(dirDataProc)))))\n",
    "display(datasets_train)\n",
    "display(datasets_test)"
   ]
  },
  {
   "cell_type": "code",
   "execution_count": 6,
   "metadata": {
    "collapsed": true
   },
   "outputs": [],
   "source": [
    "def fitAndEval(X_train, Y_train, X_test, Y_test, model):\n",
    "    model.fit(X_train, Y_train)\n",
    "    if hasattr(model, \"decision_function\") and callable(model.decision_function):\n",
    "        y_score = model.decision_function(X_test)\n",
    "    elif hasattr(model, \"predict_proba\") and callable(model.predict_proba):\n",
    "        y_score = model.predict_proba(X_test)[:,1]\n",
    "    fpr, tpr, thresh = sklearn.metrics.roc_curve(Y_test, y_score)\n",
    "    roc_auc = sklearn.metrics.auc(fpr, tpr)\n",
    "    return (fpr, tpr, thresh, roc_auc)"
   ]
  },
  {
   "cell_type": "code",
   "execution_count": 19,
   "metadata": {},
   "outputs": [
    {
     "name": "stderr",
     "output_type": "stream",
     "text": [
      "C:\\Users\\benty\\Miniconda3\\envs\\py37\\lib\\site-packages\\sklearn\\ensemble\\forest.py:248: FutureWarning: The default value of n_estimators will change from 10 in version 0.20 to 100 in 0.22.\n",
      "  \"10 in version 0.20 to 100 in 0.22.\", FutureWarning)\n"
     ]
    },
    {
     "data": {
      "image/png": "[encoded data removed]",
      "text/plain": [
       "<Figure size 432x288 with 1 Axes>"
      ]
     },
     "metadata": {
      "needs_background": "light"
     },
     "output_type": "display_data"
    }
   ],
   "source": [
    "# models = [sklearn.svm.LinearSVC(), sklearn.svm.SVC(), sklearn.ensemble.RandomForestClassifier()]\n",
    "models = [sklearn.ensemble.RandomForestClassifier()]\n",
    "for model in models:\n",
    "    plt.figure()\n",
    "    plt.xlabel('False positive rate')\n",
    "    plt.ylabel('True positive rate')\n",
    "    plt.title(type(model))\n",
    "    for i in range(len(datasets_train)):\n",
    "        X_train_file, Y_train_file = datasets_train[i]\n",
    "        X_test_file, Y_test_file = datasets_test[i]\n",
    "\n",
    "        X_train = pd.read_csv(os.path.join(dirDataProc, X_train_file), sep='\\t', header=0).values\n",
    "        Y_train = pd.read_csv(os.path.join(dirDataProc, Y_train_file), sep='\\t', header=None).squeeze().values\n",
    "        X_test = pd.read_csv(os.path.join(dirDataProc, X_test_file), sep='\\t', header=0).values\n",
    "        Y_test = pd.read_csv(os.path.join(dirDataProc, Y_test_file), sep='\\t', header=None).squeeze().values\n",
    "        \n",
    "        fpr, tpr, thresh, roc_auc = fitAndEval(X_train, Y_train, X_test, Y_test, model)\n",
    "        plt.plot(fpr, tpr, label='ROC curve (area = {:0.2f})'.format(roc_auc))\n",
    "    plt.legend()\n",
    "plt.show()"
   ]
  },
  {
   "cell_type": "code",
   "execution_count": null,
   "metadata": {
    "collapsed": true
   },
   "outputs": [],
   "source": []
  }
 ],
 "metadata": {
  "kernelspec": {
   "display_name": "Python 3",
   "language": "python",
   "name": "python3"
  },
  "language_info": {
   "codemirror_mode": {
    "name": "ipython",
    "version": 3
   },
   "file_extension": ".py",
   "mimetype": "text/x-python",
   "name": "python",
   "nbconvert_exporter": "python",
   "pygments_lexer": "ipython3",
   "version": "3.7.0"
  }
 },
 "nbformat": 4,
 "nbformat_minor": 2
}
