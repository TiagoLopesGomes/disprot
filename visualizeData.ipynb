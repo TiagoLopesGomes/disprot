{
 "cells": [
  {
   "cell_type": "markdown",
   "metadata": {},
   "source": [
    "# Setup"
   ]
  },
  {
   "cell_type": "code",
   "execution_count": 1,
   "metadata": {},
   "outputs": [
    {
     "data": {
      "text/plain": [
       "<module 'scripts.processData' from '/home/users/bentyeh/projects/disprot/scripts/processData.py'>"
      ]
     },
     "execution_count": 1,
     "metadata": {},
     "output_type": "execute_result"
    }
   ],
   "source": [
    "import importlib, os\n",
    "from multiprocessing import Pool\n",
    "import pandas as pd\n",
    "import numpy as np\n",
    "import matplotlib.pyplot as plt\n",
    "from scripts import files, seqVis, processData\n",
    "importlib.reload(seqVis)\n",
    "importlib.reload(files)\n",
    "importlib.reload(processData)"
   ]
  },
  {
   "cell_type": "code",
   "execution_count": 2,
   "metadata": {
    "scrolled": true
   },
   "outputs": [
    {
     "name": "stdout",
     "output_type": "stream",
     "text": [
      "Current working directory: /home/users/bentyeh/projects/disprot\n",
      "Number of available CPUs: 32\n"
     ]
    }
   ],
   "source": [
    "paths = files.getPaths()\n",
    "os.chdir(paths['dirProject'])\n",
    "nThreads = len(os.sched_getaffinity(0))\n",
    "print('Current working directory: ' + os.getcwd())\n",
    "print('Number of available CPUs: {}'.format(nThreads))"
   ]
  },
  {
   "cell_type": "markdown",
   "metadata": {},
   "source": [
    "# Read data"
   ]
  },
  {
   "cell_type": "markdown",
   "metadata": {},
   "source": [
    "Reference files"
   ]
  },
  {
   "cell_type": "code",
   "execution_count": 3,
   "metadata": {},
   "outputs": [],
   "source": [
    "idMap = pd.read_table(paths['idMap'])\n",
    "idMap.drop(idMap.index[idMap['d2p2_id'].isnull()], axis='index', inplace=True)\n",
    "idMap.drop_duplicates(subset='d2p2_id', keep='first', inplace=True)\n",
    "idMap.reset_index(drop=True, inplace=True)\n",
    "idMap = idMap.astype({'d2p2_id': np.int64})\n",
    "proteome = pd.read_table(paths['ensemblProteome63']).rename({'id': 'ensembl_peptide_id'}, axis='columns')\n",
    "disorderDB = pd.read_table(paths['d2p2DisorderHuman_vsl2b'])"
   ]
  },
  {
   "cell_type": "markdown",
   "metadata": {},
   "source": [
    "Gene lists"
   ]
  },
  {
   "cell_type": "code",
   "execution_count": null,
   "metadata": {},
   "outputs": [],
   "source": [
    "gl_medComplex = pd.read_table(paths['gl_medComplex'])\n",
    "gl_mediatorTFs_human = pd.read_table(paths['gl_mediatorTFs_human'])\n",
    "gl_GTFs = pd.read_table(paths['gl_GTFs'])\n",
    "gl_POLR = pd.read_table(paths['gl_POLR'])\n",
    "gl_interest = pd.read_table(paths['gl_interest'])\n",
    "toPlot = [gl_medComplex, gl_GTFs, gl_interest] # gl_POLR"
   ]
  },
  {
   "cell_type": "markdown",
   "metadata": {},
   "source": [
    "# Plots"
   ]
  },
  {
   "cell_type": "code",
   "execution_count": 4,
   "metadata": {},
   "outputs": [],
   "source": [
    "def plotSeqAndPropsHelper(seq, disorder, name):\n",
    "    try:\n",
    "        fig, axs = seqVis.plotSeqAndProps(seq, disorderDB, name=name)\n",
    "        fig.savefig(os.path.join(paths['dirResults_seqPlots'], name + '.png'), dpi=300)\n",
    "        plt.close(fig)\n",
    "    except Exception as err:\n",
    "        print(err)\n",
    "\n",
    "def plotSeqAndPropsFromIDHelper(figPath, id, idType, idMap, disorderDB, proteome=None, name_col=None):\n",
    "    # if not os.path.exists(figPath) or os.path.getmtime(figPath) < 1544688506 or os.path.getmtime(figPath) > 1544689480:\n",
    "    try:\n",
    "        # pdb.set_trace()\n",
    "        fig, axs = seqVis.plotSeqAndPropsFromID(id, idType, idMap, disorderDB, proteome, name_col)\n",
    "        fig.savefig(figPath, dpi=300)\n",
    "        plt.close('all')\n",
    "        return 1\n",
    "    except Exception as err:\n",
    "        if name_col is not None:\n",
    "            name = idMap.loc[idMap[idType] == id, name_col].values.item()\n",
    "        else:\n",
    "            name = ''\n",
    "        print('Error occurred for protein {} {} ({}): '.format(idType, id, name) + str(err))\n",
    "        with open(paths['seqPlots_error'], mode='a') as f:\n",
    "            print('Error occurred for protein {} {} ({}): '.format(idType, id, name) + str(err), file=f, flush=True)\n",
    "        return 0"
   ]
  },
  {
   "cell_type": "markdown",
   "metadata": {},
   "source": [
    "### All human genes"
   ]
  },
  {
   "cell_type": "markdown",
   "metadata": {},
   "source": [
    "Multithreaded"
   ]
  },
  {
   "cell_type": "code",
   "execution_count": null,
   "metadata": {
    "scrolled": true
   },
   "outputs": [],
   "source": [
    "allIDs = set(proteome['ensembl_peptide_id'])\n",
    "num_plots_created = 0\n",
    "for i in range(idMap.shape[0]):\n",
    "    figPath = paths['seqPlots'].format(idMap['hgnc_symbol'][i])\n",
    "    if idMap['ensembl_peptide_id'][i] not in allIDs:\n",
    "        # Protein ID is not in Ensembl GRCh37_63 (D2P2 ID probably matched via UniProt ID instead)\n",
    "        # --> we assume that the D2P2 ID and corresponding disorder prediction are valid for the UniProt sequence\n",
    "        # --> plot sequence from UniProt (idMap)\n",
    "        # print('{} ({}) missing from proteome'.format(idMap['ensembl_peptide_id'][i], idMap['hgnc_symbol'][i]))\n",
    "        num_plots_created += plotSeqAndPropsFromIDHelper(figPath, idMap['ensembl_peptide_id'][i], 'ensembl_peptide_id', idMap, disorderDB, idMap, 'hgnc_symbol')\n",
    "    else:\n",
    "        # Protein ID found in Ensembl GRCh37_63\n",
    "        # --> plot sequence from Ensembl GRCh37_63 (proteome)\n",
    "        num_plots_created += plotSeqAndPropsFromIDHelper(figPath, idMap['ensembl_peptide_id'][i], 'ensembl_peptide_id', idMap, disorderDB, proteome, 'hgnc_symbol')"
   ]
  },
  {
   "cell_type": "markdown",
   "metadata": {},
   "source": [
    "Single threaded"
   ]
  },
  {
   "cell_type": "code",
   "execution_count": null,
   "metadata": {},
   "outputs": [
    {
     "name": "stderr",
     "output_type": "stream",
     "text": [
      "/home/users/bentyeh/miniconda3/envs/rpy3_tmp/lib/python3.7/site-packages/matplotlib/tight_layout.py:176: UserWarning: Tight layout not applied. The left and right margins cannot be made large enough to accommodate all axes decorations. \n",
      "  warnings.warn('Tight layout not applied. The left and right margins '\n"
     ]
    },
    {
     "name": "stdout",
     "output_type": "stream",
     "text": [
      "Error occurred for protein ensembl_peptide_id ENSP00000419111 (IGKJ1): One or more characters in `seq` is not in `charOrder`.\n"
     ]
    },
    {
     "name": "stderr",
     "output_type": "stream",
     "text": [
      "/home/users/bentyeh/miniconda3/envs/rpy3_tmp/lib/python3.7/site-packages/matplotlib/tight_layout.py:176: UserWarning: Tight layout not applied. The left and right margins cannot be made large enough to accommodate all axes decorations. \n",
      "  warnings.warn('Tight layout not applied. The left and right margins '\n"
     ]
    },
    {
     "name": "stdout",
     "output_type": "stream",
     "text": [
      "Error occurred for protein ensembl_peptide_id ENSP00000485238 (FER1L5): Disorder region specified past sequence length\n",
      "Error occurred for protein ensembl_peptide_id ENSP00000332963 (IZUMO1R): One or more characters in `seq` is not in `charOrder`.\n"
     ]
    },
    {
     "name": "stderr",
     "output_type": "stream",
     "text": [
      "/home/users/bentyeh/miniconda3/envs/rpy3_tmp/lib/python3.7/site-packages/matplotlib/tight_layout.py:176: UserWarning: Tight layout not applied. The left and right margins cannot be made large enough to accommodate all axes decorations. \n",
      "  warnings.warn('Tight layout not applied. The left and right margins '\n"
     ]
    },
    {
     "name": "stdout",
     "output_type": "stream",
     "text": [
      "Error occurred for protein ensembl_peptide_id ENSP00000491070 (C17orf100): Disorder region specified past sequence length\n",
      "Error occurred for protein ensembl_peptide_id ENSP00000480376 (GOLGA6L6): Disorder region specified past sequence length\n",
      "Error occurred for protein ensembl_peptide_id ENSP00000342790 (FAM25A): One or more characters in `seq` is not in `charOrder`.\n"
     ]
    },
    {
     "name": "stderr",
     "output_type": "stream",
     "text": [
      "/home/users/bentyeh/miniconda3/envs/rpy3_tmp/lib/python3.7/site-packages/matplotlib/tight_layout.py:176: UserWarning: Tight layout not applied. The left and right margins cannot be made large enough to accommodate all axes decorations. \n",
      "  warnings.warn('Tight layout not applied. The left and right margins '\n"
     ]
    },
    {
     "name": "stdout",
     "output_type": "stream",
     "text": [
      "Error occurred for protein ensembl_peptide_id ENSP00000494359 (UPK3BL2): Disorder region specified past sequence length\n",
      "Error occurred for protein ensembl_peptide_id ENSP00000409542 (CCDC188): One or more characters in `seq` is not in `charOrder`.\n"
     ]
    },
    {
     "name": "stderr",
     "output_type": "stream",
     "text": [
      "/home/users/bentyeh/miniconda3/envs/rpy3_tmp/lib/python3.7/site-packages/matplotlib/tight_layout.py:176: UserWarning: Tight layout not applied. The left and right margins cannot be made large enough to accommodate all axes decorations. \n",
      "  warnings.warn('Tight layout not applied. The left and right margins '\n",
      "/home/users/bentyeh/miniconda3/envs/rpy3_tmp/lib/python3.7/site-packages/matplotlib/tight_layout.py:176: UserWarning: Tight layout not applied. The left and right margins cannot be made large enough to accommodate all axes decorations. \n",
      "  warnings.warn('Tight layout not applied. The left and right margins '\n"
     ]
    },
    {
     "name": "stdout",
     "output_type": "stream",
     "text": [
      "Error occurred for protein ensembl_peptide_id ENSP00000399324 (FGF16): One or more characters in `seq` is not in `charOrder`.\n",
      "Error occurred for protein ensembl_peptide_id ENSP00000489635 (DCX): Disorder region specified past sequence length\n",
      "Error occurred for protein ensembl_peptide_id ENSP00000328729 (SELENOF): One or more characters in `seq` is not in `charOrder`.\n"
     ]
    }
   ],
   "source": [
    "pool = Pool(nThreads)\n",
    "allIDs = set(proteome['ensembl_peptide_id'])\n",
    "for i in range(idMap.shape[0]):\n",
    "    figPath = paths['seqPlots'].format(idMap['hgnc_symbol'][i])\n",
    "    if idMap['ensembl_peptide_id'][i] not in allIDs:\n",
    "        pool.apply_async(plotSeqAndPropsFromIDHelper,\n",
    "                         (figPath, idMap['ensembl_peptide_id'][i], 'ensembl_peptide_id', idMap, disorderDB, idMap, 'hgnc_symbol'))\n",
    "    else:\n",
    "        pool.apply_async(plotSeqAndPropsFromIDHelper,\n",
    "                         (figPath, idMap['ensembl_peptide_id'][i], 'ensembl_peptide_id', idMap, disorderDB, proteome, 'hgnc_symbol'))\n",
    "pool.close()\n",
    "pool.join()"
   ]
  },
  {
   "cell_type": "markdown",
   "metadata": {},
   "source": [
    "### Transcription factors reported to interact with mediator subunits\n",
    "Boija, A. et al. Transcription Factors Activate Genes through the Phase-Separation Capacity of Their Activation Domains. *Cell* 175, 1–14 (2018)."
   ]
  },
  {
   "cell_type": "code",
   "execution_count": null,
   "metadata": {
    "scrolled": true
   },
   "outputs": [],
   "source": [
    "uniprotProteome = pd.read_table(paths['uniprotProteome'])\n",
    "d2p2IdMap = pd.read_table(paths['d2p2IdMap_raw'], header=None, names=['d2p2_id', 'uniprot_id'])\n",
    "ids = processData.readFile(paths['gl_mediatorTFs'])\n",
    "proteome = processData.generateProteome(ids, ref=uniprotProteome, idCol='id', nThreads=2)"
   ]
  },
  {
   "cell_type": "code",
   "execution_count": null,
   "metadata": {
    "scrolled": true
   },
   "outputs": [],
   "source": [
    "pool = Pool(nThreads)\n",
    "print(\"Using {:d} threads...\".format(pool._processes))\n",
    "for i in range(proteome.shape[0]):\n",
    "    uniprot_id = proteome.iloc[i, proteome.columns == 'id'].values.item()\n",
    "    seq = proteome.iloc[i, proteome.columns == 'seq'].values.item()\n",
    "    \n",
    "    if uniprot_id not in set(d2p2IdMap['uniprot_id']):\n",
    "        print('Protein {} not present in D2P2 database. Skipping.'.format(uniprot_id))\n",
    "        continue\n",
    "    \n",
    "    d2p2_id = d2p2IdMap.loc[d2p2IdMap['uniprot_id'] == uniprot_id, 'd2p2_id'].values.item()\n",
    "    \n",
    "    if d2p2_id not in set(disorderDB['d2p2_id']):\n",
    "        print('D2P2 ID {} not present in disorder database. Skipping.'.format(d2p2_id))\n",
    "        continue\n",
    "\n",
    "    disorder = disorderDB.loc[disorderDB['d2p2_id'] == d2p2_id, ['start', 'end']] \\\n",
    "                         .sort_values('start').to_records(index=False).tolist()\n",
    "    name = proteome.iloc[i, proteome.columns == 'gn'].values.item()\n",
    "    \n",
    "    pool.apply_async(plotSeqAndPropsHelper, (seq, disorder, name))\n",
    "pool.close()\n",
    "pool.join()"
   ]
  },
  {
   "cell_type": "markdown",
   "metadata": {},
   "source": [
    "### Gene lists of interest"
   ]
  },
  {
   "cell_type": "code",
   "execution_count": null,
   "metadata": {
    "scrolled": true
   },
   "outputs": [],
   "source": [
    "pool = Pool(nThreads)\n",
    "for gl in toPlot:\n",
    "    for hgnc_symbol in gl['hgnc_symbol']:\n",
    "        figPath = paths['seqPlots'].format(hgnc_symbol)\n",
    "        pool.apply_async(plotSeqAndPropsFromIDHelper,\n",
    "                         (figPath, hgnc_symbol, 'hgnc_symbol', idMap, disorderDB, proteome))\n",
    "pool.close()\n",
    "pool.join()\n",
    "#         if os.path.exists(figPath):\n",
    "#             print('{} already exists. Skipping.'.format(figPath))\n",
    "#             continue\n",
    "#         try:\n",
    "#             fig, axs = seqVis.plotSeqAndPropsFromID(hgnc_symbol, 'hgnc_symbol', idMap, d2p2DisorderHuman_vlxt)\n",
    "#             fig.savefig(figPath, dpi=300)\n",
    "#             plt.close(fig)\n",
    "#         except Exception as err:\n",
    "#             print(err)\n",
    "#             continue"
   ]
  },
  {
   "cell_type": "markdown",
   "metadata": {},
   "source": [
    "### Single genes of interest"
   ]
  },
  {
   "cell_type": "code",
   "execution_count": null,
   "metadata": {},
   "outputs": [],
   "source": [
    "len(idMap.loc[idMap['hgnc_symbol'] == 'MUC16','seq'].values.item())"
   ]
  },
  {
   "cell_type": "code",
   "execution_count": null,
   "metadata": {
    "scrolled": true
   },
   "outputs": [],
   "source": [
    "seqVis.plotSeqAndPropsFromID('ENSP00000381008', 'ensembl_peptide_id', idMap, disorderDB, proteome)"
   ]
  },
  {
   "cell_type": "code",
   "execution_count": null,
   "metadata": {},
   "outputs": [],
   "source": [
    "seqVis.plotSeqAndPropsFromID('FUS', 'hgnc_symbol', idMap, disorderDB, proteome)"
   ]
  }
 ],
 "metadata": {
  "kernelspec": {
   "display_name": "Python 3",
   "language": "python",
   "name": "python3"
  }
 },
 "nbformat": 4,
 "nbformat_minor": 2
}
