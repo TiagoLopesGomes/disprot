{
 "cells": [
  {
   "cell_type": "markdown",
   "metadata": {},
   "source": [
    "# Summary\n",
    "\n",
    "## Yeast\n",
    "\n",
    "- Number of unique TFs: 162\n",
    "- Number of TFs with DBDs: 151\n",
    "- Number of TFs with 9aaTADs: 11\n",
    "- Total AA length: 101491\n",
    "- Total DBD length: 17814\n",
    "\n",
    "Other numbers\n",
    "- Yeastract: ?? TFs, 118 with characterized DBDs\n",
    "- UniProt: 174 TFs, 163 in SwissProt\n",
    "\n",
    "## Human\n",
    "\n",
    "- Number of unique TFs: 1695\n",
    "- Number of TFs with DBDs: 1557\n",
    "- Number of TFs with 9aaTADs: 10\n",
    "- Total AA length: 1011584\n",
    "- Total DBD length: 444327\n",
    "\n",
    "Other numbers\n",
    "- [Saint-André, Violaine, et al.](https://doi.org/10.1101/gr.197590.115): 1253 TFs\n",
    "    - Intersection of AnimalTFDB and TcoF minus CTCF, GTF2I and GTF2IRD1"
   ]
  },
  {
   "cell_type": "markdown",
   "metadata": {},
   "source": [
    "# Definitions and References\n",
    "\n",
    "Yeast\n",
    "- Saccharomyces cerevisiae (strain ATCC 204508 / S288c) (Baker's yeast)\n",
    "- UniProt Taxon ID: 559292\n",
    "\n",
    "Yeastract\n",
    "- Papers\n",
    "    - Hahn, Steven, and Elton T. Young. \"Transcriptional regulation in Saccharomyces cerevisiae: transcription factor regulation and function, mechanisms of initiation, and roles of activators and coactivators.\" *Genetics* 189.3 (2011): 705-736. https://doi.org/10.1534/genetics.111.127019.\n",
    "        - As of 2011, there were \"169 genes designated as TFs in the Yeastract database.\"\n",
    "    - Teixeira, Miguel C., et al. \"YEASTRACT: an upgraded database for the analysis of transcription regulatory networks in Saccharomyces cerevisiae.\" Nucleic acids research 46.D1 (2017): D348-D353. https://doi.org/10.1093/nar/gkx842.\n",
    "        - Latest publication by Yeastract team\n",
    "\n",
    "Gene Ontology (GO) Terms\n",
    "- [GO:0003700](https://www.ebi.ac.uk/QuickGO/term/GO:0003700) DNA-binding transcription factor activity\n",
    "- [GO:0003676](https://www.ebi.ac.uk/QuickGO/term/GO:0003676) nucleic acid binding\n",
    "- [GO:0003677](https://www.ebi.ac.uk/QuickGO/term/GO:0003677) DNA binding\n",
    "\n",
    "InterPro\n",
    "- Entry types: https://www.ebi.ac.uk/interpro/user_manual.html\n",
    "- Domain coordinates appear to be 1-based start and end, inclusive: [start, end]\n",
    "\n",
    "UniProt\n",
    "- DNA-binding annotation: https://www.uniprot.org/help/dna_bind\n",
    "    - The coordinates of the DNA-binding annotation seem to be only available in the GFF files for each protein entry.\n",
    "        - `https://www.uniprot.org/uniprot/<UniProt ID>.gff`\n",
    "- Domain coordinates appear to be 1-based start and end, inclusive: [start, end]"
   ]
  },
  {
   "cell_type": "code",
   "execution_count": 1,
   "metadata": {},
   "outputs": [],
   "source": [
    "%load_ext autoreload\n",
    "%autoreload 2\n",
    "%matplotlib inline"
   ]
  },
  {
   "cell_type": "code",
   "execution_count": 77,
   "metadata": {},
   "outputs": [
    {
     "name": "stdout",
     "output_type": "stream",
     "text": [
      "Current working directory: /home/groups/kornberg/bentyeh/projects/disprot\n"
     ]
    }
   ],
   "source": [
    "import os, io, gzip, warnings\n",
    "from multiprocessing import Pool\n",
    "import numpy as np\n",
    "import pandas as pd\n",
    "import matplotlib.pyplot as plt\n",
    "import Bio.SeqIO\n",
    "import pybedtools\n",
    "from scripts import processData, files, downloadBio, utils_bio, utils_files\n",
    "\n",
    "paths = files.getPaths()\n",
    "os.chdir(paths['dirProject'])\n",
    "print('Current working directory: ' + os.getcwd())"
   ]
  },
  {
   "cell_type": "code",
   "execution_count": 3,
   "metadata": {},
   "outputs": [
    {
     "name": "stdout",
     "output_type": "stream",
     "text": [
      "Using 10 processes on 2 CPUs available.\n"
     ]
    }
   ],
   "source": [
    "# Script parameters\n",
    "# - reprocess: bool\n",
    "#     (Re)process and save data, or read processed data\n",
    "# - InterPro_types: iterable of str\n",
    "#     InterPro entry types to consider. Possible options:\n",
    "#     'Active_site', 'Binding_site', 'Conserved_site', 'Domain', 'Family', 'Homologous_superfamily', 'PTM', 'Repeat'\n",
    "# - InterPro_keywords: iterable of str\n",
    "#     Description keywords by which to filter InterPro entries\n",
    "# - GO_terms: iterable of str\n",
    "#     GO terms by which to filter InterPro entries\n",
    "# - nProc: int\n",
    "#     Number of processes to use\n",
    "\n",
    "reprocess = False\n",
    "InterPro_types = ['Active_site', 'Binding_site', 'Conserved_site', 'Domain']\n",
    "InterPro_keywords = ['DNA-binding', 'DNA binding'] #, 'nucleic-acid-binding', 'nucleic acid-binding', 'nucleic-acid binding']\n",
    "GO_terms = set(['GO:0003676', 'GO:0003700'])\n",
    "nProc = 10\n",
    "\n",
    "print(f'Using {nProc} processes on {len(os.sched_getaffinity(0))} CPUs available.')"
   ]
  },
  {
   "cell_type": "markdown",
   "metadata": {},
   "source": [
    "# DNA-binding Domains"
   ]
  },
  {
   "cell_type": "markdown",
   "metadata": {},
   "source": [
    "Get domains (InterPro terms) involved in DNA-binding\n",
    "1. Match GO term GO:0003677 (DNA-binding)\n",
    "2. Optionally filter for entry type (domain)"
   ]
  },
  {
   "cell_type": "code",
   "execution_count": 13,
   "metadata": {
    "scrolled": true
   },
   "outputs": [
    {
     "name": "stderr",
     "output_type": "stream",
     "text": [
      "File ‘data/ref_raw/interpro/interpro2go’ already there; not retrieving.\n",
      "File ‘data/ref_raw/interpro/entry.list’ already there; not retrieving.\n"
     ]
    }
   ],
   "source": [
    "%%bash\n",
    "# InterPro entry to GO term mapping\n",
    "wget -nc -P data/ref_raw/interpro ftp://ftp.ebi.ac.uk/pub/databases/interpro/current/interpro2go\n",
    "\n",
    "# InterPro entry type and descriptions\n",
    "wget -nc -P data/ref_raw/interpro ftp://ftp.ebi.ac.uk/pub/databases/interpro/entry.list"
   ]
  },
  {
   "cell_type": "code",
   "execution_count": 14,
   "metadata": {},
   "outputs": [],
   "source": [
    "# InterPro entry to GO term mapping\n",
    "interpro2go_file = os.path.join(paths['dirDataRaw'], 'interpro', 'interpro2go')\n",
    "interpro2go = downloadBio.process_InterPro_GOmap(interpro2go_file)"
   ]
  },
  {
   "cell_type": "code",
   "execution_count": 15,
   "metadata": {},
   "outputs": [],
   "source": [
    "# All descendants of GO terms\n",
    "GO_terms_descendants = downloadBio.get_QuickGO_descendants(GO_terms, relations=['is_a', 'part_of', 'occurs_in'], depth=-1)\n",
    "GO_terms_descendants |= downloadBio.get_QuickGO_secondaryIds(GO_terms_descendants)"
   ]
  },
  {
   "cell_type": "code",
   "execution_count": 16,
   "metadata": {},
   "outputs": [],
   "source": [
    "# InterPro entries filtered by entry type\n",
    "interpro = pd.read_csv(os.path.join(paths['dirDataRaw'], 'interpro', 'entry.list'), sep='\\t', index_col=False)\n",
    "interpro_filteredType = interpro[interpro['ENTRY_TYPE'].isin(InterPro_types)]"
   ]
  },
  {
   "cell_type": "code",
   "execution_count": 17,
   "metadata": {
    "scrolled": true
   },
   "outputs": [],
   "source": [
    "# InterPro entries filtered by description keywords\n",
    "keyword_filt = np.zeros(interpro_filteredType['ENTRY_NAME'].shape, dtype=bool)\n",
    "for keyword in InterPro_keywords:\n",
    "    keyword_filt |= interpro_filteredType['ENTRY_NAME'].str.find(keyword) > 0\n",
    "interpro_filteredKeyword = interpro_filteredType[keyword_filt]"
   ]
  },
  {
   "cell_type": "code",
   "execution_count": 18,
   "metadata": {
    "scrolled": true
   },
   "outputs": [],
   "source": [
    "# InterPro entries filtered by GO terms\n",
    "interpro_filteredGO = interpro2go[interpro2go['GO_ID'].isin(GO_terms_descendants)]\n",
    "interpro_filteredGO = interpro2go[interpro2go['InterPro_ID'].isin(interpro_filteredType['ENTRY_AC'])]"
   ]
  },
  {
   "cell_type": "code",
   "execution_count": 19,
   "metadata": {
    "scrolled": true
   },
   "outputs": [],
   "source": [
    "interpro_filtered = interpro[interpro['ENTRY_AC'].isin(\n",
    "    pd.concat([interpro_filteredGO['InterPro_ID'], interpro_filteredKeyword['ENTRY_AC']], ignore_index=True)\n",
    ")]\n",
    "DBDs = set(interpro_filtered['ENTRY_AC'].values.tolist())"
   ]
  },
  {
   "cell_type": "markdown",
   "metadata": {},
   "source": [
    "# Yeast TFs"
   ]
  },
  {
   "cell_type": "code",
   "execution_count": 20,
   "metadata": {},
   "outputs": [],
   "source": [
    "yeastTFs_file = os.path.join(paths['dirDataGeneLists'], 'yeastTFs.txt')\n",
    "yeastTFs_GO_file = os.path.join(paths['dirDataGeneListsRaw'], 'QuickGO_yeastTFs.tsv.gz')\n",
    "yeastTFs_seqs_file = os.path.join(paths['dirDataProc'], 'interpro', 'yeastTFs.fa.gz')\n",
    "yeastTFs_annotsIP_file = os.path.join(paths['dirDataProc'], 'interpro', 'yeastTFs.tsv.gz')\n",
    "yeastTFs_annotsUP_file = os.path.join(paths['dirDataProc'], 'uniprot', 'yeastTFs.tsv.gz')\n",
    "yeastTFs_annotsDBD_file = os.path.join(paths['dirDataAux'], 'yeastTFs_DBD.bed.gz')\n",
    "yeastTFs_annots9AA_file = os.path.join(paths['dirDataAux'], 'yeastTFs_9AA.bed.gz')\n",
    "yeastTFs_tiles_file = os.path.join(paths['dirDataAux'], 'yeastTFs_tiles.bed.gz')\n",
    "yeastTFs_tilesAnnot_file = os.path.join(paths['dirDataAux'], 'yeastTFs_tilesAnnot.bed.gz')"
   ]
  },
  {
   "cell_type": "markdown",
   "metadata": {},
   "source": [
    "Download sequences and InterPro domains"
   ]
  },
  {
   "cell_type": "code",
   "execution_count": 21,
   "metadata": {},
   "outputs": [],
   "source": [
    "if not os.path.exists(yeastTFs_file) or reprocess:\n",
    "    yeastTFs_GO = downloadBio.get_QuickGO_annotations(['GO:0003700'], taxonId=559292)\n",
    "    yeastTFs_GO.to_csv(yeastTFs_GO_file, **files.save_kwargs)\n",
    "    yeastTFs = yeastTFs_GO['GENE PRODUCT ID'].unique().tolist()\n",
    "else:\n",
    "    yeastTFs = utils_files.readFile(yeastTFs_file)"
   ]
  },
  {
   "cell_type": "code",
   "execution_count": 22,
   "metadata": {
    "scrolled": true
   },
   "outputs": [],
   "source": [
    "if reprocess:\n",
    "    if os.path.exists(yeastTFs_seqs_file): os.remove(yeastTFs_seqs_file)\n",
    "    if os.path.exists(yeastTFs_annotsIP_file): os.remove(yeastTFs_annotsIP_file)\n",
    "    if os.path.exists(yeastTFs_annotsUP_file): os.remove(yeastTFs_annotsUP_file)\n",
    "if not (os.path.exists(yeastTFs_seqs_file) and \n",
    "        os.path.exists(yeastTFs_annotsIP_file) and \n",
    "        os.path.exists(yeastTFs_annotsUP_file)):\n",
    "    results_seqs = []\n",
    "    results_annotsIP = []\n",
    "    results_annotsUP = []\n",
    "    with Pool(processes=nProc) as pool:\n",
    "        for yeastTF in yeastTFs:\n",
    "            print(f'Downloading InterPro FASTA sequence, InterPro annotation table, and UniProt annotation table for {yeastTF}.')\n",
    "            if nProc > 1:\n",
    "                results_seqs.append(pool.apply_async(downloadBio.get_InterPro_protein,\n",
    "                                                     (yeastTF,), {'export': 'fasta', 'toDf': False}))\n",
    "                results_annotsIP.append(pool.apply_async(downloadBio.get_InterPro_protein,\n",
    "                                                                (yeastTF,), {'export': 'tsv'}))\n",
    "                results_annotsUP.append(pool.apply_async(downloadBio.get_UniProt,\n",
    "                                                               (yeastTF, 'gff')))\n",
    "            else:\n",
    "                results_seqs.append(downloadBio.get_InterPro_protein(yeastTF, export='fasta', toDf=False) + '\\n')\n",
    "                results_annotsIP.append(downloadBio.get_InterPro_protein(yeastTF, export='tsv'))\n",
    "                results_annotsUP.append(downloadBio.get_UniProt(yeastTF, export='gff'))\n",
    "\n",
    "        if nProc > 1:\n",
    "            results_seqs = [result.get() + '\\n' for result in results_seqs]\n",
    "            results_annotsIP = [result.get() for result in results_annotsIP]\n",
    "            results_annotsUP = [result.get() for result in results_annotsUP]\n",
    "    \n",
    "    seqs = ''.join(results_seqs)\n",
    "    with gzip.open(yeastTFs_seqs_file, 'at') as f:\n",
    "        f.write(seqs)\n",
    "    yeastTFs_seqs = utils_bio.fastaToDF(io.StringIO(seqs), headerParser=utils_bio.parseDefaultHeader)\n",
    "    yeastTFs_seqs.set_index('name', inplace=True)\n",
    "\n",
    "    yeastTFs_annotsIP = pd.concat(results_annotsIP, ignore_index=True)\n",
    "    yeastTFs_annotsIP.to_csv(yeastTFs_annotsIP_file, **files.save_kwargs)\n",
    "    \n",
    "    yeastTFs_annotsUP = pd.concat(results_annotsUP, ignore_index=True)\n",
    "    yeastTFs_annotsUP.to_csv(yeastTFs_annotsUP_file, **files.save_kwargs)\n",
    "else:\n",
    "    yeastTFs_seqs = utils_bio.fastaToDF(yeastTFs_seqs_file, headerParser=utils_bio.parseDefaultHeader)\n",
    "    yeastTFs_seqs.set_index('name', inplace=True)\n",
    "    yeastTFs_annotsIP = pd.read_csv(yeastTFs_annotsIP_file, sep='\\t', header=0, index_col=False)\n",
    "    yeastTFs_annotsUP = pd.read_csv(yeastTFs_annotsUP_file, sep='\\t', header=0, index_col=False)\n",
    "\n",
    "for var in ['results_seqs', 'results_annotsIP', 'results_annotsUP', 'seqs']:\n",
    "    if var in globals():\n",
    "        del globals()[var]"
   ]
  },
  {
   "cell_type": "markdown",
   "metadata": {},
   "source": [
    "Remove duplicate sequences"
   ]
  },
  {
   "cell_type": "code",
   "execution_count": 23,
   "metadata": {
    "scrolled": true
   },
   "outputs": [],
   "source": [
    "if reprocess:\n",
    "    display(yeastTFs_seqs[yeastTFs_seqs.duplicated('seq', keep=False)])\n",
    "    dups = yeastTFs_seqs.index[yeastTFs_seqs.duplicated('seq')].tolist()\n",
    "    print('Removing {} from yeast TF list.'.format(', '.join(dups)))\n",
    "    yeastTFs_seqs.drop_duplicates('seq', inplace=True)\n",
    "    yeastTFs = yeastTFs_seqs.index.tolist()\n",
    "    with open(yeastTFs_file, 'w') as f:\n",
    "        f.write('\\n'.join(yeastTFs))"
   ]
  },
  {
   "cell_type": "markdown",
   "metadata": {},
   "source": [
    "Plot distribution of sequence lengths"
   ]
  },
  {
   "cell_type": "code",
   "execution_count": 24,
   "metadata": {},
   "outputs": [
    {
     "data": {
      "image/png": "[encoded data removed]",
      "text/plain": [
       "<Figure size 432x288 with 1 Axes>"
      ]
     },
     "metadata": {
      "needs_background": "light"
     },
     "output_type": "display_data"
    }
   ],
   "source": [
    "yeastTFs_dist_len = yeastTFs_seqs['seq'].apply(len).hist()\n",
    "yeastTFs_dist_len.set_xlabel('TF AA sequence length')\n",
    "\n",
    "if not os.path.exists(os.path.join(paths['dirResults'], 'yeastTFs_dist_len.png')) or reprocess:\n",
    "    yeastTFs_dist_len.get_figure().savefig(os.path.join(paths['dirResults'], 'yeastTFs_dist_len.png'))"
   ]
  },
  {
   "cell_type": "markdown",
   "metadata": {},
   "source": [
    "Create BED file of DBDs within yeast TF sequences"
   ]
  },
  {
   "cell_type": "code",
   "execution_count": 30,
   "metadata": {},
   "outputs": [],
   "source": [
    "if not os.path.exists(yeastTFs_annotsDBD_file) or reprocess:\n",
    "    yeastTFs_annotsDBD = yeastTFs_annotsIP.rename(\n",
    "        {'Protein Accession': 'protein', 'Start Position': 'start', 'Stop Position': 'end'},\n",
    "        axis='columns')\n",
    "    yeastTFs_annotsDBD = yeastTFs_annotsDBD.loc[yeastTFs_annotsDBD['InterPro Entry ID'].isin(DBDs), ['protein', 'start', 'end']]\n",
    "    \n",
    "    yeastTFs_annotsUP_DBD = yeastTFs_annotsUP[\n",
    "        (yeastTFs_annotsUP['type'] == 'DNA binding') | \n",
    "         ((yeastTFs_annotsUP['type'] == 'Region') & \n",
    "          ((yeastTFs_annotsUP['attributes'].str.find('DNA-binding') > 0) | \n",
    "           (yeastTFs_annotsUP['attributes'].str.find('DNA binding') > 0))) | \n",
    "         ((yeastTFs_annotsUP['type'] == 'Domain') & \n",
    "          (yeastTFs_annotsUP['attributes'].str.find('bZIP') > 0))]\n",
    "    yeastTFs_annotsUP_DBD = yeastTFs_annotsUP_DBD.rename({'seqid': 'protein'}, axis=1)[['protein', 'start', 'end']]\n",
    "    yeastTFs_annotsDBD = yeastTFs_annotsDBD.append(yeastTFs_annotsUP_DBD, ignore_index=True)\n",
    "    \n",
    "    yeastTFs_annotsDBD['start'] -= 1 # convert from InterPro and UniProt 1-based start to BED format 0-based start\n",
    "    yeastTFs_annotsDBD.sort_values(['protein', 'start', 'end'], inplace=True)\n",
    "    yeastTFs_annotsDBD.to_csv(yeastTFs_annotsDBD_file, header=False, **files.save_kwargs)\n",
    "    pybedtools.BedTool(yeastTFs_annotsDBD_file).merge().saveas(yeastTFs_annotsDBD_file)\n",
    "    pybedtools.helpers.cleanup(remove_all=True)"
   ]
  },
  {
   "cell_type": "markdown",
   "metadata": {},
   "source": [
    "Create BED file of 9aaTADs within yeast TF sequences"
   ]
  },
  {
   "cell_type": "code",
   "execution_count": 31,
   "metadata": {},
   "outputs": [],
   "source": [
    "if not os.path.exists(yeastTFs_annots9AA_file) or reprocess:\n",
    "    yeastTFs_annots9AA = yeastTFs_annotsUP[yeastTFs_annotsUP['attributes'].str.find('9aaTAD') > 0]\n",
    "    yeastTFs_annots9AA = yeastTFs_annots9AA.rename({'seqid': 'protein'}, axis=1)[['protein', 'start', 'end']]\n",
    "    yeastTFs_annots9AA[['start']] -= 1\n",
    "    yeastTFs_annots9AA.to_csv(yeastTFs_annots9AA_file, header=False, **files.save_kwargs)\n",
    "    pybedtools.BedTool(yeastTFs_annots9AA_file).merge().saveas(yeastTFs_annots9AA_file)\n",
    "    pybedtools.helpers.cleanup(remove_all=True)"
   ]
  },
  {
   "cell_type": "markdown",
   "metadata": {},
   "source": [
    "Read in processed data"
   ]
  },
  {
   "cell_type": "code",
   "execution_count": 32,
   "metadata": {
    "scrolled": true
   },
   "outputs": [],
   "source": [
    "yeastTFs_annotsDBD = pd.read_csv(yeastTFs_annotsDBD_file, sep='\\t', header=None,\n",
    "                                 names=['protein', 'start', 'end'], index_col=False)\n",
    "yeastTFs_annotsDBD = yeastTFs_annotsDBD[yeastTFs_annotsDBD['protein'].isin(yeastTFs)]\n",
    "yeastTFs_annots9AA = pd.read_csv(yeastTFs_annots9AA_file, sep='\\t', header=None,\n",
    "                                 names=['protein', 'start', 'end'], index_col=False)\n",
    "yeastTFs_annots9AA = yeastTFs_annots9AA[yeastTFs_annots9AA['protein'].isin(yeastTFs)]"
   ]
  },
  {
   "cell_type": "markdown",
   "metadata": {},
   "source": [
    "Calculate statistics"
   ]
  },
  {
   "cell_type": "code",
   "execution_count": 34,
   "metadata": {
    "scrolled": false
   },
   "outputs": [
    {
     "name": "stdout",
     "output_type": "stream",
     "text": [
      "Number of unique TFs: 162\n",
      "Number of TFs with DBDs: 151\n",
      "Number of TFs with 9aaTADs: 11\n",
      "Total AA length: 101491\n",
      "Total DBD length: 17814\n"
     ]
    }
   ],
   "source": [
    "print('Number of unique TFs: {}'.format(len(yeastTFs)))\n",
    "print('Number of TFs with DBDs: {}'.format(yeastTFs_annotsDBD['protein'].unique().shape[0]))\n",
    "print('Number of TFs with 9aaTADs: {}'.format(yeastTFs_annots9AA['protein'].unique().shape[0]))\n",
    "print('Total AA length: {}'.format(yeastTFs_seqs['seq'].apply(len).sum()))\n",
    "print('Total DBD length: {}'.format((yeastTFs_annotsDBD['end'] - yeastTFs_annotsDBD['start']).sum()))"
   ]
  },
  {
   "cell_type": "code",
   "execution_count": 39,
   "metadata": {
    "scrolled": true
   },
   "outputs": [
    {
     "name": "stdout",
     "output_type": "stream",
     "text": [
      "Yeast TFs without annotated DBDs:\n",
      "['P13393', 'P14164', 'P14908', 'P21705', 'P22149', 'P25583', 'P40522', 'P46676', 'Q03213', 'Q08957', 'Q12427']\n"
     ]
    }
   ],
   "source": [
    "print('Yeast TFs without annotated DBDs:')\n",
    "print(sorted(list(set(yeastTFs) - set(yeastTFs_annotsDBD['protein'].unique()))))"
   ]
  },
  {
   "cell_type": "markdown",
   "metadata": {},
   "source": [
    "Create tiling"
   ]
  },
  {
   "cell_type": "code",
   "execution_count": 40,
   "metadata": {},
   "outputs": [],
   "source": [
    "def tile(seqLen, tileLen, overlap, priority='length-distMo'):\n",
    "    '''\n",
    "    Create tiling of sequence.\n",
    "    \n",
    "    Args\n",
    "    - seqLen: int\n",
    "        Length of full sequence\n",
    "    - tileLen: int\n",
    "        Length of each tile.\n",
    "    - overlap: int\n",
    "        Number of characters to overlap between tiles\n",
    "    - priority: str. default='length-distMo'\n",
    "        See table below.\n",
    "    \n",
    "    Returns: numpy.ndarray\n",
    "      Each row is 0-indexed [start, end).\n",
    "    \n",
    "    priority         | behavior\n",
    "    -------------------------------\n",
    "    'length-first'   | Enforce tile length. The first 2 tiles may share greater overlap.\n",
    "    'length-last'    | Enforce tile length. The last 2 tiles may share greater overlap.\n",
    "    'length-distMo'  | Enforce tile length. Distribute (more) overlap; overlap will be >= the specified overlap.\n",
    "    'length-distLo'  | Enforce tile length. Distribute (less) overlap; try to decrease overlap using 1 less tile.\n",
    "                     |   Note that overlap may still be >= specified overlap if that is the only way for tile\n",
    "                     |   length to be maintained.\n",
    "    'overlap-first'  | Enforce overlap. The first tile may be shorter than `tileLen`.\n",
    "    'overlap-last'   | Enforce overlap. The last tile may be shorter than `tileLen`.\n",
    "    \n",
    "    TODO\n",
    "    'overlap-distLt' | Enforce overlap. Distribute (longer) tiles; tile length will be >= the specified tile length.\n",
    "    'overlap-distSt' | Enforce overlap. Distribute (shorter) tiles; try to decrease number of tiles using 1 less\n",
    "                     | overlapping region.\n",
    "    check to see that code works with overlap < 0\n",
    "    '''\n",
    "    assert overlap < tileLen\n",
    "    \n",
    "    if seqLen <= tileLen:\n",
    "        if seqLen < tileLen:\n",
    "            warnings.warn(f'Sequence length ({seqLen}) < tile length ({tileLen})')\n",
    "        return np.array([[0, seqLen]])\n",
    "    \n",
    "    nTiles = int(np.ceil((seqLen - tileLen) / (tileLen - overlap)) + 1)\n",
    "    if priority == 'length-distLo' and (nTiles - 1) * tileLen - seqLen >= 0:\n",
    "        nTiles -=1\n",
    "    pos = np.zeros((nTiles, 2))\n",
    "    \n",
    "    if priority.startswith('length-dist'):\n",
    "        avgOverlap = (nTiles * tileLen - seqLen) / (nTiles - 1)\n",
    "        pos[:, 0] = np.round(np.array([i * (tileLen - avgOverlap) for i in range(nTiles)]))\n",
    "    elif priority == 'length-last':\n",
    "        pos[:, 0] = np.array([i * (tileLen - overlap) for i in range(nTiles)])\n",
    "        pos[-1,0] = seqLen - tileLen\n",
    "    elif priority == 'length-first':\n",
    "        pos[:, 0] = np.array([(seqLen - tileLen) - i * (tileLen - overlap) for i in range(nTiles-1, -1, -1)])\n",
    "        pos[0, 0] = 0\n",
    "    pos[:, 1] = pos[:, 0] + tileLen\n",
    "    \n",
    "    if priority == 'overlap-last':\n",
    "        pos[:, 0] = np.array([i * (tileLen - overlap) for i in range(nTiles)])\n",
    "        pos[:, 1] = pos[:, 0] + tileLen\n",
    "        pos[-1,1] = seqLen\n",
    "    elif priority == 'overlap-first':\n",
    "        pos[:, 0] = np.array([(seqLen - tileLen) - i * (tileLen - overlap) for i in range(nTiles-1, -1, -1)])\n",
    "        pos[:,1] = pos[:,0] + tileLen\n",
    "        pos[0, 0] = 0\n",
    "\n",
    "    return pos"
   ]
  },
  {
   "cell_type": "code",
   "execution_count": 41,
   "metadata": {},
   "outputs": [],
   "source": [
    "tileLen = 60\n",
    "overlap = 15\n",
    "priority = 'length-distMo'"
   ]
  },
  {
   "cell_type": "code",
   "execution_count": 42,
   "metadata": {
    "scrolled": true
   },
   "outputs": [],
   "source": [
    "tiles = []\n",
    "tileNames = []\n",
    "overlaps = []\n",
    "for yeastTF in yeastTFs:\n",
    "    pos = tile(len(yeastTFs_seqs.loc[yeastTF, 'seq']), tileLen, overlap, priority=priority)\n",
    "    overlaps.append(pos[0:-1,1] - pos[1:,0])\n",
    "    tiles.append(pos)\n",
    "    tileNames.extend([yeastTF]*pos.shape[0])\n",
    "\n",
    "overlaps = np.concatenate(overlaps)\n",
    "tiles = pd.DataFrame(np.concatenate(tiles, axis=0), columns=['start', 'end'], dtype=int)\n",
    "tiles['protein'] = tileNames\n",
    "tiles = tiles[['protein', 'start', 'end']]\n",
    "tiles.to_csv(yeastTFs_tiles_file, header=False, **files.save_kwargs)\n",
    "\n",
    "for var in ['tileNames', 'pos']:\n",
    "    if var in globals():\n",
    "        del globals()[var]"
   ]
  },
  {
   "cell_type": "code",
   "execution_count": 43,
   "metadata": {
    "scrolled": false
   },
   "outputs": [
    {
     "data": {
      "text/plain": [
       "Text(0.5, 0.98, 'Yeast TF Library Tile Length Distribution')"
      ]
     },
     "execution_count": 43,
     "metadata": {},
     "output_type": "execute_result"
    },
    {
     "data": {
      "image/png": "[encoded data removed]",
      "text/plain": [
       "<Figure size 432x288 with 1 Axes>"
      ]
     },
     "metadata": {
      "needs_background": "light"
     },
     "output_type": "display_data"
    }
   ],
   "source": [
    "tileLenDist = (tiles['end'] - tiles['start']).hist()\n",
    "tileLenDist.set_xlabel('Tile length (AA)')\n",
    "tileLenDist.set_title(f'Parameters: tileLen={tileLen}, overlap={overlap}, priority={priority}')\n",
    "tileLenDist.get_figure().suptitle('Yeast TF Library Tile Length Distribution')"
   ]
  },
  {
   "cell_type": "code",
   "execution_count": 44,
   "metadata": {
    "scrolled": true
   },
   "outputs": [
    {
     "data": {
      "text/plain": [
       "Text(0.5, 0.98, 'Yeast TF Library Overlap Length Distribution')"
      ]
     },
     "execution_count": 44,
     "metadata": {},
     "output_type": "execute_result"
    },
    {
     "data": {
      "image/png": "[encoded data removed]",
      "text/plain": [
       "<Figure size 432x288 with 1 Axes>"
      ]
     },
     "metadata": {
      "needs_background": "light"
     },
     "output_type": "display_data"
    }
   ],
   "source": [
    "overlapLenDist = pd.Series(overlaps).hist()\n",
    "overlapLenDist.set_xlabel('Overlap length (AA)')\n",
    "overlapLenDist.set_title(f'Parameters: tileLen={tileLen}, overlap={overlap}, priority={priority}')\n",
    "overlapLenDist.get_figure().suptitle('Yeast TF Library Overlap Length Distribution')"
   ]
  },
  {
   "cell_type": "markdown",
   "metadata": {},
   "source": [
    "Create master annotations table"
   ]
  },
  {
   "cell_type": "code",
   "execution_count": 45,
   "metadata": {},
   "outputs": [],
   "source": [
    "pybedtools.BedTool(yeastTFs_tiles_file).intersect(yeastTFs_annotsDBD_file, wao=True).saveas(yeastTFs_tilesAnnot_file)\n",
    "pybedtools.BedTool(yeastTFs_tilesAnnot_file).intersect(yeastTFs_annots9AA_file, wao=True).saveas(yeastTFs_tilesAnnot_file)\n",
    "pybedtools.helpers.cleanup(remove_all=True)"
   ]
  },
  {
   "cell_type": "code",
   "execution_count": 47,
   "metadata": {
    "scrolled": true
   },
   "outputs": [],
   "source": [
    "tilesAnnot = pd.read_csv(\n",
    "    yeastTFs_tilesAnnot_file, sep='\\t', header=None,\n",
    "    names=['protein', 'start', 'end', 'drop', 'DBD_start', 'DBD_end', 'DBD_overlap', 'drop2', '9AA_start', '9AA_end', '9AA_overlap'],\n",
    "    usecols=['protein', 'start', 'end', 'DBD_start', 'DBD_end', 'DBD_overlap', '9AA_start', '9AA_end', '9AA_overlap'],\n",
    "    index_col=False)\n",
    "tilesAnnot.to_csv(yeastTFs_tilesAnnot_file, **files.save_kwargs)"
   ]
  },
  {
   "cell_type": "code",
   "execution_count": 121,
   "metadata": {},
   "outputs": [],
   "source": [
    "overlap_dist_data = np.concatenate([np.arange(31).reshape(-1,1), np.zeros((31,2))], axis=1)\n",
    "tileLen_dist_data = np.copy(overlap_dist_data)\n",
    "for i in range(overlap_dist_data.shape[0]):\n",
    "    overlap = overlap_dist_data[i,0]\n",
    "    tiles = []\n",
    "    tileNames = []\n",
    "    overlaps = []\n",
    "    for yeastTF in yeastTFs:\n",
    "        pos = tile(len(yeastTFs_seqs.loc[yeastTF, 'seq']), tileLen, overlap, priority=priority)\n",
    "        overlaps.append(pos[0:-1,1] - pos[1:,0])\n",
    "        tiles.append(pos)\n",
    "        tileNames.extend([yeastTF]*pos.shape[0])\n",
    "\n",
    "    tiles = pd.DataFrame(np.concatenate(tiles, axis=0), columns=['start', 'end'], dtype=int)\n",
    "    tileLen_dist = tiles['end'] - tiles['start']\n",
    "    tileLen_dist_data[i,1] = tileLen_dist.mean()\n",
    "    tileLen_dist_data[i,2] = tileLen_dist.std()\n",
    "    \n",
    "    overlaps = np.concatenate(overlaps)\n",
    "    overlap_dist_data[i,1] = np.mean(overlaps)\n",
    "    overlap_dist_data[i,2] = np.std(overlaps)\n",
    "\n",
    "for var in ['tileNames', 'pos']:\n",
    "    if var in globals():\n",
    "        del globals()[var]"
   ]
  },
  {
   "cell_type": "code",
   "execution_count": 122,
   "metadata": {
    "scrolled": false
   },
   "outputs": [
    {
     "data": {
      "image/png": "[encoded data removed]",
      "text/plain": [
       "<Figure size 864x288 with 3 Axes>"
      ]
     },
     "metadata": {
      "needs_background": "light"
     },
     "output_type": "display_data"
    }
   ],
   "source": [
    "fig, ax = plt.subplots(1, 3, sharex=True, figsize=(12, 4))\n",
    "fig.suptitle('Overlap length distribution as function of `overlap` parameter')\n",
    "ax[0].scatter(overlap_dist_data[:,0], overlap_dist_data[:,1])\n",
    "ax[0].set_title('Mean overlap length')\n",
    "ax[0].set_ylabel('Overlap (AA)')\n",
    "ax[0].set_xlabel('`overlap` parameter')\n",
    "ax[1].scatter(overlap_dist_data[:,0], overlap_dist_data[:,2])\n",
    "ax[1].set_title('Standard deviation of overlap length')\n",
    "ax[1].set_ylabel('Overlap (AA)')\n",
    "ax[2].scatter(overlap_dist_data[:,0], overlap_dist_data[:,2]/overlap_dist_data[:,1])\n",
    "ax[2].set_title('Coefficient of variation of overlap length')\n",
    "ax[2].set_ylabel('Overlap (AA)')\n",
    "fig.tight_layout(rect=[0, 0.03, 1, 0.95])\n",
    "plt.show()"
   ]
  },
  {
   "cell_type": "code",
   "execution_count": 123,
   "metadata": {
    "scrolled": true
   },
   "outputs": [
    {
     "data": {
      "image/png": "[encoded data removed]",
      "text/plain": [
       "<Figure size 864x288 with 3 Axes>"
      ]
     },
     "metadata": {
      "needs_background": "light"
     },
     "output_type": "display_data"
    }
   ],
   "source": [
    "fig, ax = plt.subplots(1, 3, sharex=True, figsize=(12, 4))\n",
    "fig.suptitle('Tile length distribution as function of `overlap` parameter')\n",
    "ax[0].scatter(tileLen_dist_data[:,0], tileLen_dist_data[:,1])\n",
    "ax[0].set_title('Mean tile length')\n",
    "ax[0].set_ylabel('Overlap (AA)')\n",
    "ax[0].set_xlabel('`overlap` parameter')\n",
    "ax[1].scatter(tileLen_dist_data[:,0], tileLen_dist_data[:,2])\n",
    "ax[1].set_title('Standard deviation of tile length')\n",
    "ax[1].set_ylabel('Overlap (AA)')\n",
    "ax[2].scatter(tileLen_dist_data[:,0], tileLen_dist_data[:,2]/tileLen_dist_data[:,1])\n",
    "ax[2].set_title('Coefficient of variation of tile length')\n",
    "ax[2].set_ylabel('Overlap (AA)')\n",
    "fig.tight_layout(rect=[0, 0.03, 1, 0.95])\n",
    "plt.show()"
   ]
  },
  {
   "cell_type": "markdown",
   "metadata": {},
   "source": [
    "# Human TFs"
   ]
  },
  {
   "cell_type": "code",
   "execution_count": 48,
   "metadata": {},
   "outputs": [],
   "source": [
    "humanTFs_file = os.path.join(paths['dirDataGeneLists'], 'humanTFs.txt')\n",
    "humanTFs_GO_file = os.path.join(paths['dirDataGeneListsRaw'], 'QuickGO_humanTFs.tsv.gz')\n",
    "humanTFs_seqs_file = os.path.join(paths['dirDataProc'], 'interpro', 'humanTFs.fa.gz')\n",
    "humanTFs_annotsIP_file = os.path.join(paths['dirDataProc'], 'interpro', 'humanTFs.tsv.gz')\n",
    "humanTFs_annotsUP_file = os.path.join(paths['dirDataProc'], 'uniprot', 'humanTFs.tsv.gz')\n",
    "humanTFs_annotsDBD_file = os.path.join(paths['dirDataAux'], 'humanTFs_DBD.bed.gz')\n",
    "humanTFs_annots9AA_file = os.path.join(paths['dirDataAux'], 'humanTFs_9AA.bed.gz')\n",
    "humanTFs_tiles_file = os.path.join(paths['dirDataAux'], 'humanTFs_tiles.bed.gz')\n",
    "humanTFs_tilesAnnot_file = os.path.join(paths['dirDataAux'], 'humanTFs_tilesAnnot.bed.gz')"
   ]
  },
  {
   "cell_type": "markdown",
   "metadata": {},
   "source": [
    "Download sequences and InterPro domains"
   ]
  },
  {
   "cell_type": "code",
   "execution_count": 51,
   "metadata": {
    "scrolled": true
   },
   "outputs": [],
   "source": [
    "if not os.path.exists(humanTFs_file) or reprocess:\n",
    "    humanTFs_GO = downloadBio.get_QuickGO_annotations(['GO:0003700'], taxonId=9606)\n",
    "    humanTFs_GO.to_csv(humanTFs_GO_file, **files.save_kwargs)\n",
    "    humanTFs = humanTFs_GO['GENE PRODUCT ID'].unique().tolist()\n",
    "else:\n",
    "    humanTFs = utils_files.readFile(humanTFs_file)"
   ]
  },
  {
   "cell_type": "code",
   "execution_count": 52,
   "metadata": {},
   "outputs": [],
   "source": [
    "humanTFs = [humanTF.split('-')[0] for humanTF in humanTFs]\n",
    "humanTFs = [humanTF.split(':')[0] for humanTF in humanTFs]\n",
    "humanTFs = set(humanTFs)"
   ]
  },
  {
   "cell_type": "code",
   "execution_count": 53,
   "metadata": {
    "scrolled": true
   },
   "outputs": [],
   "source": [
    "if reprocess:\n",
    "    if os.path.exists(humanTFs_seqs_file): os.remove(humanTFs_seqs_file)\n",
    "    if os.path.exists(humanTFs_annotsIP_file): os.remove(humanTFs_annotsIP_file)\n",
    "    if os.path.exists(humanTFs_annotsUP_file): os.remove(humanTFs_annotsUP_file)\n",
    "if not (os.path.exists(humanTFs_seqs_file) and \n",
    "        os.path.exists(humanTFs_annotsIP_file) and \n",
    "        os.path.exists(humanTFs_annotsUP_file)):\n",
    "    results_seqs = []\n",
    "    results_annotsIP = []\n",
    "    results_annotsUP = []\n",
    "    with Pool(processes=nProc) as pool:\n",
    "        for humanTF in humanTFs:\n",
    "            print(f'Downloading InterPro FASTA sequence, InterPro annotation table, and UniProt annotation table for {humanTF}.')\n",
    "            if nProc > 1:\n",
    "                results_seqs.append(pool.apply_async(downloadBio.get_InterPro_protein,\n",
    "                                                     (humanTF,), {'export': 'fasta', 'toDf': False}))\n",
    "                results_annotsIP.append(pool.apply_async(downloadBio.get_InterPro_protein,\n",
    "                                                                (humanTF,), {'export': 'tsv'}))\n",
    "                results_annotsUP.append(pool.apply_async(downloadBio.get_UniProt,\n",
    "                                                               (humanTF, 'gff')))\n",
    "            else:\n",
    "                results_seqs.append(downloadBio.get_InterPro_protein(humanTF, export='fasta', toDf=False) + '\\n')\n",
    "                results_annotsIP.append(downloadBio.get_InterPro_protein(humanTF, export='tsv'))\n",
    "                results_annotsUP.append(downloadBio.get_UniProt(humanTF, export='gff'))\n",
    "\n",
    "        if nProc > 1:\n",
    "            results_seqs = [result.get() + '\\n' for result in results_seqs]\n",
    "            results_annotsIP = [result.get() for result in results_annotsIP]\n",
    "            results_annotsUP = [result.get() for result in results_annotsUP]\n",
    "    \n",
    "    seqs = ''.join(results_seqs)\n",
    "    with gzip.open(humanTFs_seqs_file, 'at') as f:\n",
    "        f.write(seqs)\n",
    "    humanTFs_seqs = utils_bio.fastaToDF(io.StringIO(seqs), headerParser=utils_bio.parseDefaultHeader)\n",
    "    humanTFs_seqs.set_index('name', inplace=True)\n",
    "\n",
    "    humanTFs_annotsIP = pd.concat(results_annotsIP, ignore_index=True)\n",
    "    humanTFs_annotsIP.to_csv(humanTFs_annotsIP_file, **files.save_kwargs)\n",
    "    \n",
    "    humanTFs_annotsUP = pd.concat(results_annotsUP, ignore_index=True)\n",
    "    humanTFs_annotsUP.to_csv(humanTFs_annotsUP_file, **files.save_kwargs)\n",
    "else:\n",
    "    humanTFs_seqs = utils_bio.fastaToDF(humanTFs_seqs_file, headerParser=utils_bio.parseDefaultHeader)\n",
    "    humanTFs_seqs.set_index('name', inplace=True)\n",
    "    humanTFs_annotsIP = pd.read_csv(humanTFs_annotsIP_file, sep='\\t', header=0, index_col=False)\n",
    "    humanTFs_annotsUP = pd.read_csv(humanTFs_annotsUP_file, sep='\\t', header=0, index_col=False)\n",
    "\n",
    "for var in ['results_seqs', 'results_annotsIP', 'results_annotsUP', 'seqs']:\n",
    "    if var in globals():\n",
    "        del globals()[var]"
   ]
  },
  {
   "cell_type": "markdown",
   "metadata": {},
   "source": [
    "Remove duplicate sequences"
   ]
  },
  {
   "cell_type": "code",
   "execution_count": 54,
   "metadata": {
    "scrolled": true
   },
   "outputs": [],
   "source": [
    "if reprocess:\n",
    "    display(humanTFs_seqs[humanTFs_seqs.duplicated('seq', keep=False)])\n",
    "    dups = humanTFs_seqs.index[humanTFs_seqs.duplicated('seq')].tolist()\n",
    "    print('Removing {} from human TF list.'.format(', '.join(dups)))\n",
    "    humanTFs_seqs.drop_duplicates('seq', inplace=True)\n",
    "    humanTFs = humanTFs_seqs.index.tolist()\n",
    "    with open(humanTFs_file, 'w') as f:\n",
    "        f.write('\\n'.join(humanTFs))"
   ]
  },
  {
   "cell_type": "markdown",
   "metadata": {},
   "source": [
    "Plot distribution of sequence lengths"
   ]
  },
  {
   "cell_type": "code",
   "execution_count": 55,
   "metadata": {},
   "outputs": [
    {
     "data": {
      "image/png": "[encoded data removed]",
      "text/plain": [
       "<Figure size 432x288 with 1 Axes>"
      ]
     },
     "metadata": {
      "needs_background": "light"
     },
     "output_type": "display_data"
    }
   ],
   "source": [
    "humanTFs_dist_len = humanTFs_seqs['seq'].apply(len).hist()\n",
    "humanTFs_dist_len.set_xlabel('TF AA sequence length')\n",
    "\n",
    "if not os.path.exists(os.path.join(paths['dirResults'], 'humanTFs_dist_len.png')) or reprocess:\n",
    "    humanTFs_dist_len.get_figure().savefig(os.path.join(paths['dirResults'], 'humanTFs_dist_len.png'))"
   ]
  },
  {
   "cell_type": "markdown",
   "metadata": {},
   "source": [
    "Create BED file of DBDs within human TF sequences"
   ]
  },
  {
   "cell_type": "code",
   "execution_count": 56,
   "metadata": {},
   "outputs": [],
   "source": [
    "if not os.path.exists(humanTFs_annotsDBD_file) or reprocess:\n",
    "    humanTFs_annotsDBD = humanTFs_annotsIP.rename(\n",
    "        {'Protein Accession': 'protein', 'Start Position': 'start', 'Stop Position': 'end'},\n",
    "        axis='columns')\n",
    "    humanTFs_annotsDBD = humanTFs_annotsDBD.loc[humanTFs_annotsDBD['InterPro Entry ID'].isin(DBDs), ['protein', 'start', 'end']]\n",
    "    \n",
    "    humanTFs_annotsUP_DBD = humanTFs_annotsUP[\n",
    "        (humanTFs_annotsUP['type'] == 'DNA binding') | \n",
    "         ((humanTFs_annotsUP['type'] == 'Region') & \n",
    "          ((humanTFs_annotsUP['attributes'].str.find('DNA-binding') > 0) | \n",
    "           (humanTFs_annotsUP['attributes'].str.find('DNA binding') > 0))) | \n",
    "         ((humanTFs_annotsUP['type'] == 'Domain') & \n",
    "          (humanTFs_annotsUP['attributes'].str.find('bZIP') > 0))]\n",
    "    humanTFs_annotsUP_DBD = humanTFs_annotsUP_DBD.rename({'seqid': 'protein'}, axis=1)[['protein', 'start', 'end']]\n",
    "    humanTFs_annotsDBD = humanTFs_annotsDBD.append(humanTFs_annotsUP_DBD, ignore_index=True)\n",
    "    \n",
    "    humanTFs_annotsDBD['start'] -= 1 # convert from InterPro and UniProt 1-based start to BED format 0-based start\n",
    "    humanTFs_annotsDBD.sort_values(['protein', 'start', 'end'], inplace=True)\n",
    "    humanTFs_annotsDBD.to_csv(humanTFs_annotsDBD_file, sep='\\t', header=False, index=False)\n",
    "    pybedtools.BedTool(humanTFs_annotsDBD_file).merge().saveas(humanTFs_annotsDBD_file)\n",
    "    pybedtools.helpers.cleanup(remove_all=True)"
   ]
  },
  {
   "cell_type": "markdown",
   "metadata": {},
   "source": [
    "Create BED file of 9aaTADs within yeast TF sequences"
   ]
  },
  {
   "cell_type": "code",
   "execution_count": 57,
   "metadata": {},
   "outputs": [],
   "source": [
    "if not os.path.exists(humanTFs_annots9AA_file) or reprocess:\n",
    "    humanTFs_annots9AA = humanTFs_annotsUP[humanTFs_annotsUP['attributes'].str.find('9aaTAD') > 0]\n",
    "    humanTFs_annots9AA = humanTFs_annots9AA.rename({'seqid': 'protein'}, axis=1)[['protein', 'start', 'end']]\n",
    "    humanTFs_annots9AA[['start']] -= 1\n",
    "    humanTFs_annots9AA.to_csv(humanTFs_annots9AA_file, header=False, **files.save_kwargs)\n",
    "    pybedtools.BedTool(humanTFs_annots9AA_file).merge().saveas(humanTFs_annots9AA_file)\n",
    "    pybedtools.helpers.cleanup(remove_all=True)"
   ]
  },
  {
   "cell_type": "markdown",
   "metadata": {},
   "source": [
    "Read in processed data"
   ]
  },
  {
   "cell_type": "code",
   "execution_count": 58,
   "metadata": {},
   "outputs": [],
   "source": [
    "humanTFs_annotsDBD = pd.read_csv(humanTFs_annotsDBD_file, sep='\\t', header=None,\n",
    "                                 names=['protein', 'start', 'end'], index_col=False)\n",
    "humanTFs_annotsDBD = humanTFs_annotsDBD[humanTFs_annotsDBD['protein'].isin(humanTFs)]\n",
    "humanTFs_annots9AA = pd.read_csv(humanTFs_annots9AA_file, sep='\\t', header=None,\n",
    "                                 names=['protein', 'start', 'end'], index_col=False)\n",
    "humanTFs_annots9AA = humanTFs_annots9AA[humanTFs_annots9AA['protein'].isin(humanTFs)]"
   ]
  },
  {
   "cell_type": "markdown",
   "metadata": {},
   "source": [
    "Calculate statistics"
   ]
  },
  {
   "cell_type": "code",
   "execution_count": 59,
   "metadata": {
    "scrolled": false
   },
   "outputs": [
    {
     "name": "stdout",
     "output_type": "stream",
     "text": [
      "Number of unique TFs: 1695\n",
      "Number of TFs with DBDs: 1557\n",
      "Number of TFs with 9aaTADs: 10\n",
      "Total AA length: 1011584\n",
      "Total DBD length: 444327\n"
     ]
    }
   ],
   "source": [
    "print('Number of unique TFs: {}'.format(len(humanTFs)))\n",
    "print('Number of TFs with DBDs: {}'.format(humanTFs_annotsDBD['protein'].unique().shape[0]))\n",
    "print('Number of TFs with 9aaTADs: {}'.format(humanTFs_annots9AA['protein'].unique().shape[0]))\n",
    "print('Total AA length: {}'.format(humanTFs_seqs['seq'].apply(len).sum()))\n",
    "print('Total DBD length: {}'.format((humanTFs_annotsDBD['end'] - humanTFs_annotsDBD['start']).sum()))"
   ]
  },
  {
   "cell_type": "code",
   "execution_count": 60,
   "metadata": {
    "scrolled": true
   },
   "outputs": [
    {
     "name": "stdout",
     "output_type": "stream",
     "text": [
      "Human TFs without annotated DBDs:\n",
      "['O00287', 'O14593', 'O14686', 'O14981', 'O15162', 'O43151', 'O43189', 'O43593', 'O60260', 'O60284', 'O60861', 'O60925', 'O75716', 'O95218', 'O95619', 'O95997', 'P01270', 'P06400', 'P06733', 'P0CG35', 'P20749', 'P25791', 'P35222', 'P35227', 'P35232', 'P36894', 'P40879', 'P41221', 'P42568', 'P42681', 'P46100', 'P46531', 'P47974', 'P49848', 'P51610', 'P51816', 'P51825', 'P51826', 'P54198', 'P61129', 'P61968', 'P63272', 'P78543', 'Q01538', 'Q01658', 'Q03111', 'Q03701', 'Q04727', 'Q06547', 'Q07352', 'Q09472', 'Q13033', 'Q13363', 'Q13487', 'Q13547', 'Q13951', 'Q14134', 'Q14202', 'Q14602', 'Q14919', 'Q14978', 'Q15170', 'Q15542', 'Q15543', 'Q15545', 'Q15910', 'Q16514', 'Q16666', 'Q17RH7', 'Q2TAL8', 'Q32MQ0', 'Q3KNV8', 'Q5SVZ6', 'Q5T6S3', 'Q5VZL5', 'Q6ZN28', 'Q7RTV0', 'Q7Z5J4', 'Q7Z5L9', 'Q86SE9', 'Q86UQ8', 'Q86X95', 'Q8IU81', 'Q8IUM7', 'Q8IWS0', 'Q8IXQ3', 'Q8IXZ2', 'Q8IZQ8', 'Q8N187', 'Q8N5P1', 'Q8N653', 'Q8WVM7', 'Q8WWB7', 'Q8WYN3', 'Q92800', 'Q96CJ1', 'Q96EB6', 'Q96RY5', 'Q96S65', 'Q96ST3', 'Q99608', 'Q99732', 'Q99966', 'Q99967', 'Q9BQ70', 'Q9BR39', 'Q9BTL4', 'Q9BVI4', 'Q9BXX3', 'Q9BYE7', 'Q9BYM8', 'Q9H0E9', 'Q9H175', 'Q9H1B7', 'Q9H1E3', 'Q9H2G9', 'Q9NPF5', 'Q9NPG3', 'Q9NQV5', 'Q9NRY4', 'Q9NX63', 'Q9UBC3', 'Q9UBW7', 'Q9UHB7', 'Q9UJ78', 'Q9UJW3', 'Q9UL68', 'Q9ULM3', 'Q9UMS5', 'Q9UN30', 'Q9UPT8', 'Q9UQR0', 'Q9Y250', 'Q9Y2W7', 'Q9Y483', 'Q9Y4C1', 'Q9Y608', 'Q9Y6K1']\n"
     ]
    }
   ],
   "source": [
    "print('Human TFs without annotated DBDs:')\n",
    "print(sorted(list(set(humanTFs) - set(humanTFs_annotsDBD['protein'].unique()))))"
   ]
  },
  {
   "cell_type": "markdown",
   "metadata": {},
   "source": [
    "Create tiling"
   ]
  },
  {
   "cell_type": "code",
   "execution_count": 114,
   "metadata": {},
   "outputs": [],
   "source": [
    "tileLen = 60\n",
    "overlap = 15\n",
    "priority = 'length-distMo'"
   ]
  },
  {
   "cell_type": "code",
   "execution_count": 63,
   "metadata": {
    "scrolled": true
   },
   "outputs": [
    {
     "name": "stderr",
     "output_type": "stream",
     "text": [
      "/home/users/bentyeh/miniconda3/envs/rpy3_tmp/lib/python3.7/site-packages/ipykernel_launcher.py:39: UserWarning: Sequence length (36) < tile length (60)\n",
      "/home/users/bentyeh/miniconda3/envs/rpy3_tmp/lib/python3.7/site-packages/ipykernel_launcher.py:39: UserWarning: Sequence length (45) < tile length (60)\n"
     ]
    }
   ],
   "source": [
    "tiles = []\n",
    "tileNames = []\n",
    "overlaps = []\n",
    "for humanTF in humanTFs:\n",
    "    pos = tile(len(humanTFs_seqs.loc[humanTF, 'seq']), tileLen, overlap, priority=priority)\n",
    "    overlaps.append(pos[0:-1,1] - pos[1:,0])\n",
    "    tiles.append(pos)\n",
    "    tileNames.extend([humanTF]*pos.shape[0])\n",
    "\n",
    "overlaps = np.concatenate(overlaps)\n",
    "tiles = pd.DataFrame(np.concatenate(tiles, axis=0), columns=['start', 'end'], dtype=int)\n",
    "tiles['protein'] = tileNames\n",
    "tiles = tiles[['protein', 'start', 'end']]\n",
    "tiles.to_csv(humanTFs_tiles_file, header=False, **files.save_kwargs)\n",
    "\n",
    "for var in ['tileNames', 'pos']:\n",
    "    if var in globals():\n",
    "        del globals()[var]"
   ]
  },
  {
   "cell_type": "code",
   "execution_count": 64,
   "metadata": {
    "scrolled": false
   },
   "outputs": [
    {
     "data": {
      "text/plain": [
       "Text(0.5, 0.98, 'Human TF Library Tile Length Distribution')"
      ]
     },
     "execution_count": 64,
     "metadata": {},
     "output_type": "execute_result"
    },
    {
     "data": {
      "image/png": "[encoded data removed]",
      "text/plain": [
       "<Figure size 432x288 with 1 Axes>"
      ]
     },
     "metadata": {
      "needs_background": "light"
     },
     "output_type": "display_data"
    }
   ],
   "source": [
    "tileLenDist = (tiles['end'] - tiles['start']).hist(log=True)\n",
    "tileLenDist.set_xlabel('Tile length (AA)')\n",
    "tileLenDist.set_title(f'Parameters: tileLen={tileLen}, overlap={overlap}, priority={priority}')\n",
    "tileLenDist.get_figure().suptitle('Human TF Library Tile Length Distribution')"
   ]
  },
  {
   "cell_type": "code",
   "execution_count": 80,
   "metadata": {
    "scrolled": true
   },
   "outputs": [
    {
     "data": {
      "text/plain": [
       "Text(0.5, 0.98, 'Human TF Library Overlap Length Distribution')"
      ]
     },
     "execution_count": 80,
     "metadata": {},
     "output_type": "execute_result"
    },
    {
     "data": {
      "image/png": "[encoded data removed]",
      "text/plain": [
       "<Figure size 432x288 with 1 Axes>"
      ]
     },
     "metadata": {
      "needs_background": "light"
     },
     "output_type": "display_data"
    }
   ],
   "source": [
    "overlapLenDist = pd.Series(overlaps).hist()\n",
    "overlapLenDist.set_xlabel('Overlap length (AA)')\n",
    "overlapLenDist.set_title(f'Parameters: tileLen={tileLen}, overlap={overlap}, priority={priority}')\n",
    "overlapLenDist.get_figure().suptitle('Human TF Library Overlap Length Distribution')"
   ]
  },
  {
   "cell_type": "markdown",
   "metadata": {},
   "source": [
    "Create master annotations table"
   ]
  },
  {
   "cell_type": "code",
   "execution_count": 66,
   "metadata": {},
   "outputs": [],
   "source": [
    "pybedtools.BedTool(humanTFs_tiles_file).intersect(humanTFs_annotsDBD_file, wao=True).saveas(humanTFs_tilesAnnot_file)\n",
    "pybedtools.BedTool(humanTFs_tilesAnnot_file).intersect(humanTFs_annots9AA_file, wao=True).saveas(humanTFs_tilesAnnot_file)\n",
    "pybedtools.helpers.cleanup(remove_all=True)"
   ]
  },
  {
   "cell_type": "code",
   "execution_count": 67,
   "metadata": {
    "scrolled": true
   },
   "outputs": [],
   "source": [
    "tilesAnnot = pd.read_csv(\n",
    "    humanTFs_tilesAnnot_file, sep='\\t', header=None,\n",
    "    names=['protein', 'start', 'end', 'drop', 'DBD_start', 'DBD_end', 'DBD_overlap', 'drop2', '9AA_start', '9AA_end', '9AA_overlap'],\n",
    "    usecols=['protein', 'start', 'end', 'DBD_start', 'DBD_end', 'DBD_overlap', '9AA_start', '9AA_end', '9AA_overlap'],\n",
    "    index_col=False)\n",
    "tilesAnnot.to_csv(humanTFs_tilesAnnot_file, **files.save_kwargs)"
   ]
  },
  {
   "cell_type": "code",
   "execution_count": 118,
   "metadata": {},
   "outputs": [
    {
     "name": "stderr",
     "output_type": "stream",
     "text": [
      "/home/users/bentyeh/miniconda3/envs/rpy3_tmp/lib/python3.7/site-packages/ipykernel_launcher.py:39: UserWarning: Sequence length (36) < tile length (60)\n",
      "/home/users/bentyeh/miniconda3/envs/rpy3_tmp/lib/python3.7/site-packages/ipykernel_launcher.py:39: UserWarning: Sequence length (45) < tile length (60)\n"
     ]
    }
   ],
   "source": [
    "overlap_dist_data = np.concatenate([np.arange(31).reshape(-1,1), np.zeros((31,2))], axis=1)\n",
    "tileLen_dist_data = np.copy(overlap_dist_data)\n",
    "for i in range(overlap_dist_data.shape[0]):\n",
    "    overlap = overlap_dist_data[i,0]\n",
    "    tiles = []\n",
    "    tileNames = []\n",
    "    overlaps = []\n",
    "    for humanTF in humanTFs:\n",
    "        pos = tile(len(humanTFs_seqs.loc[humanTF, 'seq']), tileLen, overlap, priority=priority)\n",
    "        overlaps.append(pos[0:-1,1] - pos[1:,0])\n",
    "        tiles.append(pos)\n",
    "        tileNames.extend([humanTF]*pos.shape[0])\n",
    "\n",
    "    tiles = pd.DataFrame(np.concatenate(tiles, axis=0), columns=['start', 'end'], dtype=int)\n",
    "    tileLen_dist = tiles['end'] - tiles['start']\n",
    "    tileLen_dist_data[i,1] = tileLen_dist.mean()\n",
    "    tileLen_dist_data[i,2] = tileLen_dist.std()\n",
    "    \n",
    "    overlaps = np.concatenate(overlaps)\n",
    "    overlap_dist_data[i,1] = np.mean(overlaps)\n",
    "    overlap_dist_data[i,2] = np.std(overlaps)\n",
    "\n",
    "for var in ['tileNames', 'pos']:\n",
    "    if var in globals():\n",
    "        del globals()[var]"
   ]
  },
  {
   "cell_type": "code",
   "execution_count": 119,
   "metadata": {
    "scrolled": false
   },
   "outputs": [
    {
     "data": {
      "image/png": "[encoded data removed]",
      "text/plain": [
       "<Figure size 864x288 with 3 Axes>"
      ]
     },
     "metadata": {
      "needs_background": "light"
     },
     "output_type": "display_data"
    }
   ],
   "source": [
    "fig, ax = plt.subplots(1, 3, sharex=True, figsize=(12, 4))\n",
    "fig.suptitle('Overlap length distribution as function of `overlap` parameter')\n",
    "ax[0].scatter(overlap_dist_data[:,0], overlap_dist_data[:,1])\n",
    "ax[0].set_title('Mean overlap length')\n",
    "ax[0].set_ylabel('Overlap (AA)')\n",
    "ax[0].set_xlabel('`overlap` parameter')\n",
    "ax[1].scatter(overlap_dist_data[:,0], overlap_dist_data[:,2])\n",
    "ax[1].set_title('Standard deviation of overlap length')\n",
    "ax[1].set_ylabel('Overlap (AA)')\n",
    "ax[2].scatter(overlap_dist_data[:,0], overlap_dist_data[:,2]/overlap_dist_data[:,1])\n",
    "ax[2].set_title('Coefficient of variation of overlap length')\n",
    "ax[2].set_ylabel('Overlap (AA)')\n",
    "fig.tight_layout(rect=[0, 0.03, 1, 0.95])\n",
    "plt.show()"
   ]
  },
  {
   "cell_type": "code",
   "execution_count": 120,
   "metadata": {
    "scrolled": true
   },
   "outputs": [
    {
     "data": {
      "image/png": "[encoded data removed]",
      "text/plain": [
       "<Figure size 864x288 with 3 Axes>"
      ]
     },
     "metadata": {
      "needs_background": "light"
     },
     "output_type": "display_data"
    }
   ],
   "source": [
    "fig, ax = plt.subplots(1, 3, sharex=True, figsize=(12, 4))\n",
    "fig.suptitle('Tile length distribution as function of `overlap` parameter')\n",
    "ax[0].scatter(tileLen_dist_data[:,0], tileLen_dist_data[:,1])\n",
    "ax[0].set_title('Mean tile length')\n",
    "ax[0].set_ylabel('Overlap (AA)')\n",
    "ax[0].set_xlabel('`overlap` parameter')\n",
    "ax[1].scatter(tileLen_dist_data[:,0], tileLen_dist_data[:,2])\n",
    "ax[1].set_title('Standard deviation of tile length')\n",
    "ax[1].set_ylabel('Overlap (AA)')\n",
    "ax[2].scatter(tileLen_dist_data[:,0], tileLen_dist_data[:,2]/tileLen_dist_data[:,1])\n",
    "ax[2].set_title('Coefficient of variation of tile length')\n",
    "ax[2].set_ylabel('Overlap (AA)')\n",
    "fig.tight_layout(rect=[0, 0.03, 1, 0.95])\n",
    "plt.show()"
   ]
  },
  {
   "cell_type": "markdown",
   "metadata": {},
   "source": [
    "# Appendix\n",
    "\n",
    "## Data sources\n",
    "\n",
    "### InterPro\n",
    "\n",
    "Instead of downloading InterPro tables for each protein of interest, we could use InterProScan to scan sequences for matches to designated InterPro entries. See https://github.com/ebi-pf-team/interproscan/wiki/HowToRun.\n",
    "\n",
    "### Prosite\n",
    "\n",
    "GO-term mapping: https://prosite.expasy.org/cgi-bin/unirule/unirule_browse.cgi?context=PROSITE&browse=go"
   ]
  },
  {
   "cell_type": "markdown",
   "metadata": {},
   "source": [
    "## Validation"
   ]
  },
  {
   "cell_type": "markdown",
   "metadata": {},
   "source": [
    "Manually check InterPro entries selected by keywords for false positives (e.g., terms containing \"DNA-binding\" in its description that do not actually describe a DNA-binding domain\")"
   ]
  },
  {
   "cell_type": "code",
   "execution_count": 69,
   "metadata": {
    "scrolled": true
   },
   "outputs": [
    {
     "data": {
      "text/html": [
       "<div>\n",
       "<style scoped>\n",
       "    .dataframe tbody tr th:only-of-type {\n",
       "        vertical-align: middle;\n",
       "    }\n",
       "\n",
       "    .dataframe tbody tr th {\n",
       "        vertical-align: top;\n",
       "    }\n",
       "\n",
       "    .dataframe thead th {\n",
       "        text-align: right;\n",
       "    }\n",
       "</style>\n",
       "<table border=\"1\" class=\"dataframe\">\n",
       "  <thead>\n",
       "    <tr style=\"text-align: right;\">\n",
       "      <th></th>\n",
       "      <th>ENTRY_AC</th>\n",
       "      <th>ENTRY_TYPE</th>\n",
       "      <th>ENTRY_NAME</th>\n",
       "    </tr>\n",
       "  </thead>\n",
       "  <tbody>\n",
       "    <tr>\n",
       "      <th>1728</th>\n",
       "      <td>IPR003163</td>\n",
       "      <td>Domain</td>\n",
       "      <td>Transcription regulator HTH, APSES-type DNA-binding domain</td>\n",
       "    </tr>\n",
       "    <tr>\n",
       "      <th>2051</th>\n",
       "      <td>IPR004330</td>\n",
       "      <td>Domain</td>\n",
       "      <td>FAR1 DNA binding domain</td>\n",
       "    </tr>\n",
       "    <tr>\n",
       "      <th>2525</th>\n",
       "      <td>IPR006600</td>\n",
       "      <td>Domain</td>\n",
       "      <td>HTH CenpB-type DNA-binding domain</td>\n",
       "    </tr>\n",
       "    <tr>\n",
       "      <th>2861</th>\n",
       "      <td>IPR007634</td>\n",
       "      <td>Domain</td>\n",
       "      <td>RNA polymerase sigma factor 54, DNA-binding</td>\n",
       "    </tr>\n",
       "    <tr>\n",
       "      <th>3444</th>\n",
       "      <td>IPR010896</td>\n",
       "      <td>Domain</td>\n",
       "      <td>Nuclease-associated modular DNA-binding 1</td>\n",
       "    </tr>\n",
       "    <tr>\n",
       "      <th>3842</th>\n",
       "      <td>IPR012909</td>\n",
       "      <td>Domain</td>\n",
       "      <td>PHA accumulation regulator DNA-binding, N-terminal</td>\n",
       "    </tr>\n",
       "    <tr>\n",
       "      <th>4619</th>\n",
       "      <td>IPR015126</td>\n",
       "      <td>Domain</td>\n",
       "      <td>Mu DNA binding, I gamma subdomain</td>\n",
       "    </tr>\n",
       "    <tr>\n",
       "      <th>4786</th>\n",
       "      <td>IPR015358</td>\n",
       "      <td>Domain</td>\n",
       "      <td>Transcription regulator MerR, DNA binding</td>\n",
       "    </tr>\n",
       "    <tr>\n",
       "      <th>4794</th>\n",
       "      <td>IPR015367</td>\n",
       "      <td>Domain</td>\n",
       "      <td>Transcription factor CEP-1, DNA-binding domain</td>\n",
       "    </tr>\n",
       "    <tr>\n",
       "      <th>4798</th>\n",
       "      <td>IPR015371</td>\n",
       "      <td>Domain</td>\n",
       "      <td>Endonuclease VIII-like 1, DNA binding</td>\n",
       "    </tr>\n",
       "    <tr>\n",
       "      <th>5020</th>\n",
       "      <td>IPR018004</td>\n",
       "      <td>Domain</td>\n",
       "      <td>KilA, N-terminal/APSES-type HTH, DNA-binding</td>\n",
       "    </tr>\n",
       "    <tr>\n",
       "      <th>5045</th>\n",
       "      <td>IPR018306</td>\n",
       "      <td>Domain</td>\n",
       "      <td>Bacteriophage T5, Orf172 DNA-binding</td>\n",
       "    </tr>\n",
       "    <tr>\n",
       "      <th>5062</th>\n",
       "      <td>IPR018473</td>\n",
       "      <td>Domain</td>\n",
       "      <td>Hermes trasposase, DNA-binding domain</td>\n",
       "    </tr>\n",
       "    <tr>\n",
       "      <th>5098</th>\n",
       "      <td>IPR018586</td>\n",
       "      <td>Domain</td>\n",
       "      <td>Brinker DNA-binding domain</td>\n",
       "    </tr>\n",
       "    <tr>\n",
       "      <th>5115</th>\n",
       "      <td>IPR018640</td>\n",
       "      <td>Domain</td>\n",
       "      <td>Putative DNA-binding domain, bacteria</td>\n",
       "    </tr>\n",
       "    <tr>\n",
       "      <th>5189</th>\n",
       "      <td>IPR018873</td>\n",
       "      <td>Domain</td>\n",
       "      <td>KilA-N, DNA-binding domain</td>\n",
       "    </tr>\n",
       "    <tr>\n",
       "      <th>5386</th>\n",
       "      <td>IPR019476</td>\n",
       "      <td>Domain</td>\n",
       "      <td>Type IV secretion system coupling protein TraD, DNA-binding domain</td>\n",
       "    </tr>\n",
       "    <tr>\n",
       "      <th>5414</th>\n",
       "      <td>IPR019525</td>\n",
       "      <td>Domain</td>\n",
       "      <td>Nuclear respiratory factor 1, NLS/DNA-binding, dimerisation domain</td>\n",
       "    </tr>\n",
       "    <tr>\n",
       "      <th>5645</th>\n",
       "      <td>IPR021068</td>\n",
       "      <td>Domain</td>\n",
       "      <td>HTH DNA binding domain</td>\n",
       "    </tr>\n",
       "    <tr>\n",
       "      <th>5658</th>\n",
       "      <td>IPR021104</td>\n",
       "      <td>Domain</td>\n",
       "      <td>KfrA, N-terminal DNA-binding domain</td>\n",
       "    </tr>\n",
       "    <tr>\n",
       "      <th>5835</th>\n",
       "      <td>IPR022000</td>\n",
       "      <td>Domain</td>\n",
       "      <td>Min27-like integrase, DNA-binding domain</td>\n",
       "    </tr>\n",
       "    <tr>\n",
       "      <th>6118</th>\n",
       "      <td>IPR022783</td>\n",
       "      <td>Domain</td>\n",
       "      <td>GC-rich sequence DNA-binding factor-like domain</td>\n",
       "    </tr>\n",
       "    <tr>\n",
       "      <th>6565</th>\n",
       "      <td>IPR025166</td>\n",
       "      <td>Domain</td>\n",
       "      <td>Integrase, DNA-binding domain</td>\n",
       "    </tr>\n",
       "    <tr>\n",
       "      <th>6895</th>\n",
       "      <td>IPR025927</td>\n",
       "      <td>Domain</td>\n",
       "      <td>Potential DNA-binding domain</td>\n",
       "    </tr>\n",
       "    <tr>\n",
       "      <th>7053</th>\n",
       "      <td>IPR027395</td>\n",
       "      <td>Domain</td>\n",
       "      <td>Winged helix DNA-binding domain</td>\n",
       "    </tr>\n",
       "    <tr>\n",
       "      <th>7149</th>\n",
       "      <td>IPR028002</td>\n",
       "      <td>Domain</td>\n",
       "      <td>Myb/SANT-like DNA-binding domain</td>\n",
       "    </tr>\n",
       "    <tr>\n",
       "      <th>7770</th>\n",
       "      <td>IPR031760</td>\n",
       "      <td>Domain</td>\n",
       "      <td>Centromere DNA-binding protein complex CBF3 subunit B, C-terminal</td>\n",
       "    </tr>\n",
       "    <tr>\n",
       "      <th>9286</th>\n",
       "      <td>IPR035386</td>\n",
       "      <td>Domain</td>\n",
       "      <td>Arm, DNA-binding domain</td>\n",
       "    </tr>\n",
       "    <tr>\n",
       "      <th>9431</th>\n",
       "      <td>IPR035616</td>\n",
       "      <td>Domain</td>\n",
       "      <td>MvaT, DNA-binding domain</td>\n",
       "    </tr>\n",
       "    <tr>\n",
       "      <th>10043</th>\n",
       "      <td>IPR038722</td>\n",
       "      <td>Domain</td>\n",
       "      <td>Ner, winged helix-turn-helix DNA-binding domain</td>\n",
       "    </tr>\n",
       "    <tr>\n",
       "      <th>10051</th>\n",
       "      <td>IPR038733</td>\n",
       "      <td>Domain</td>\n",
       "      <td>Predicted DNA-binding protein, ribbon-helix-helix domain</td>\n",
       "    </tr>\n",
       "    <tr>\n",
       "      <th>10239</th>\n",
       "      <td>IPR040480</td>\n",
       "      <td>Domain</td>\n",
       "      <td>DnaT, DNA-binding domain</td>\n",
       "    </tr>\n",
       "    <tr>\n",
       "      <th>10317</th>\n",
       "      <td>IPR040586</td>\n",
       "      <td>Domain</td>\n",
       "      <td>PheRS DNA binding domain 2</td>\n",
       "    </tr>\n",
       "    <tr>\n",
       "      <th>10433</th>\n",
       "      <td>IPR040724</td>\n",
       "      <td>Domain</td>\n",
       "      <td>PheRS, DNA binding domain 1</td>\n",
       "    </tr>\n",
       "    <tr>\n",
       "      <th>10434</th>\n",
       "      <td>IPR040725</td>\n",
       "      <td>Domain</td>\n",
       "      <td>PheRS, DNA binding domain 3</td>\n",
       "    </tr>\n",
       "    <tr>\n",
       "      <th>10439</th>\n",
       "      <td>IPR040731</td>\n",
       "      <td>Domain</td>\n",
       "      <td>Metal-independent restriction enzyme BfiI, DNA binding domain</td>\n",
       "    </tr>\n",
       "    <tr>\n",
       "      <th>10747</th>\n",
       "      <td>IPR041105</td>\n",
       "      <td>Domain</td>\n",
       "      <td>TAR DNA-binding protein 43, N-terminal</td>\n",
       "    </tr>\n",
       "    <tr>\n",
       "      <th>10783</th>\n",
       "      <td>IPR041150</td>\n",
       "      <td>Domain</td>\n",
       "      <td>Chromodomain helicase DNA-binding domain</td>\n",
       "    </tr>\n",
       "    <tr>\n",
       "      <th>10864</th>\n",
       "      <td>IPR041241</td>\n",
       "      <td>Domain</td>\n",
       "      <td>Thymine dioxygenase JBP1, DNA-binding domain</td>\n",
       "    </tr>\n",
       "    <tr>\n",
       "      <th>11103</th>\n",
       "      <td>IPR041511</td>\n",
       "      <td>Domain</td>\n",
       "      <td>Putative DNA-binding domain</td>\n",
       "    </tr>\n",
       "    <tr>\n",
       "      <th>11138</th>\n",
       "      <td>IPR041552</td>\n",
       "      <td>Domain</td>\n",
       "      <td>UvrA DNA-binding domain</td>\n",
       "    </tr>\n",
       "    <tr>\n",
       "      <th>11162</th>\n",
       "      <td>IPR041580</td>\n",
       "      <td>Domain</td>\n",
       "      <td>Telomerase reverse transcriptase, thumb DNA-binding domain</td>\n",
       "    </tr>\n",
       "  </tbody>\n",
       "</table>\n",
       "</div>"
      ],
      "text/plain": [
       "        ENTRY_AC ENTRY_TYPE  \\\n",
       "1728   IPR003163     Domain   \n",
       "2051   IPR004330     Domain   \n",
       "2525   IPR006600     Domain   \n",
       "2861   IPR007634     Domain   \n",
       "3444   IPR010896     Domain   \n",
       "3842   IPR012909     Domain   \n",
       "4619   IPR015126     Domain   \n",
       "4786   IPR015358     Domain   \n",
       "4794   IPR015367     Domain   \n",
       "4798   IPR015371     Domain   \n",
       "5020   IPR018004     Domain   \n",
       "5045   IPR018306     Domain   \n",
       "5062   IPR018473     Domain   \n",
       "5098   IPR018586     Domain   \n",
       "5115   IPR018640     Domain   \n",
       "5189   IPR018873     Domain   \n",
       "5386   IPR019476     Domain   \n",
       "5414   IPR019525     Domain   \n",
       "5645   IPR021068     Domain   \n",
       "5658   IPR021104     Domain   \n",
       "5835   IPR022000     Domain   \n",
       "6118   IPR022783     Domain   \n",
       "6565   IPR025166     Domain   \n",
       "6895   IPR025927     Domain   \n",
       "7053   IPR027395     Domain   \n",
       "7149   IPR028002     Domain   \n",
       "7770   IPR031760     Domain   \n",
       "9286   IPR035386     Domain   \n",
       "9431   IPR035616     Domain   \n",
       "10043  IPR038722     Domain   \n",
       "10051  IPR038733     Domain   \n",
       "10239  IPR040480     Domain   \n",
       "10317  IPR040586     Domain   \n",
       "10433  IPR040724     Domain   \n",
       "10434  IPR040725     Domain   \n",
       "10439  IPR040731     Domain   \n",
       "10747  IPR041105     Domain   \n",
       "10783  IPR041150     Domain   \n",
       "10864  IPR041241     Domain   \n",
       "11103  IPR041511     Domain   \n",
       "11138  IPR041552     Domain   \n",
       "11162  IPR041580     Domain   \n",
       "\n",
       "                                                               ENTRY_NAME  \n",
       "1728           Transcription regulator HTH, APSES-type DNA-binding domain  \n",
       "2051                                              FAR1 DNA binding domain  \n",
       "2525                                    HTH CenpB-type DNA-binding domain  \n",
       "2861                          RNA polymerase sigma factor 54, DNA-binding  \n",
       "3444                            Nuclease-associated modular DNA-binding 1  \n",
       "3842                   PHA accumulation regulator DNA-binding, N-terminal  \n",
       "4619                                    Mu DNA binding, I gamma subdomain  \n",
       "4786                            Transcription regulator MerR, DNA binding  \n",
       "4794                       Transcription factor CEP-1, DNA-binding domain  \n",
       "4798                                Endonuclease VIII-like 1, DNA binding  \n",
       "5020                         KilA, N-terminal/APSES-type HTH, DNA-binding  \n",
       "5045                                 Bacteriophage T5, Orf172 DNA-binding  \n",
       "5062                                Hermes trasposase, DNA-binding domain  \n",
       "5098                                           Brinker DNA-binding domain  \n",
       "5115                                Putative DNA-binding domain, bacteria  \n",
       "5189                                           KilA-N, DNA-binding domain  \n",
       "5386   Type IV secretion system coupling protein TraD, DNA-binding domain  \n",
       "5414   Nuclear respiratory factor 1, NLS/DNA-binding, dimerisation domain  \n",
       "5645                                               HTH DNA binding domain  \n",
       "5658                                  KfrA, N-terminal DNA-binding domain  \n",
       "5835                             Min27-like integrase, DNA-binding domain  \n",
       "6118                      GC-rich sequence DNA-binding factor-like domain  \n",
       "6565                                        Integrase, DNA-binding domain  \n",
       "6895                                         Potential DNA-binding domain  \n",
       "7053                                      Winged helix DNA-binding domain  \n",
       "7149                                     Myb/SANT-like DNA-binding domain  \n",
       "7770    Centromere DNA-binding protein complex CBF3 subunit B, C-terminal  \n",
       "9286                                              Arm, DNA-binding domain  \n",
       "9431                                             MvaT, DNA-binding domain  \n",
       "10043                     Ner, winged helix-turn-helix DNA-binding domain  \n",
       "10051            Predicted DNA-binding protein, ribbon-helix-helix domain  \n",
       "10239                                            DnaT, DNA-binding domain  \n",
       "10317                                          PheRS DNA binding domain 2  \n",
       "10433                                         PheRS, DNA binding domain 1  \n",
       "10434                                         PheRS, DNA binding domain 3  \n",
       "10439       Metal-independent restriction enzyme BfiI, DNA binding domain  \n",
       "10747                              TAR DNA-binding protein 43, N-terminal  \n",
       "10783                            Chromodomain helicase DNA-binding domain  \n",
       "10864                        Thymine dioxygenase JBP1, DNA-binding domain  \n",
       "11103                                         Putative DNA-binding domain  \n",
       "11138                                             UvrA DNA-binding domain  \n",
       "11162          Telomerase reverse transcriptase, thumb DNA-binding domain  "
      ]
     },
     "metadata": {},
     "output_type": "display_data"
    }
   ],
   "source": [
    "with pd.option_context('display.max_rows', None, 'display.max_columns', None, 'display.max_colwidth', 100):\n",
    "    display(interpro_filteredKeyword[~interpro_filteredKeyword['ENTRY_AC'].isin(interpro_filteredGO['InterPro_ID'])])"
   ]
  },
  {
   "cell_type": "markdown",
   "metadata": {},
   "source": [
    "Compare InterPro entries found via keywords versus GO terms"
   ]
  },
  {
   "cell_type": "code",
   "execution_count": null,
   "metadata": {},
   "outputs": [],
   "source": [
    "# InterPro entries found only via keywords\n",
    "interpro_filteredKeyword[~interpro_filteredKeyword['ENTRY_AC'].isin(interpro_filteredGO['InterPro_ID'])]\n",
    "\n",
    "# InterPro entries found only via GO terms\n",
    "interpro_filteredGO[~interpro_filteredGO['InterPro_ID'].isin(interpro_filteredKeyword['ENTRY_AC'])]\n",
    "\n",
    "# InterPro entries found both via keywords and GO terms\n",
    "interpro_filteredKeyword[interpro_filteredKeyword['ENTRY_AC'].isin(interpro_filteredGO['InterPro_ID'])]\n",
    "\n",
    "# Check for false-positives in keyword-filtered InterPro entries\n",
    "display(interpro_filteredKeyword[interpro_filteredKeyword['ENTRY_NAME'].str.find('regulation') > 0])\n",
    "display(interpro_filteredKeyword[interpro_filteredKeyword['ENTRY_NAME'].str.find('repression') > 0])"
   ]
  },
  {
   "cell_type": "markdown",
   "metadata": {},
   "source": [
    "Verify that all human transcription factors found via GO code are part of SwissProt"
   ]
  },
  {
   "cell_type": "code",
   "execution_count": null,
   "metadata": {},
   "outputs": [],
   "source": [
    "uniprotProteome = pd.read_csv(paths['uniprotProteome'], sep='\\t', index_col=False)\n",
    "swissprotProteome = uniprotProteome.loc[uniprotProteome['db'] == 'sp', 'id'].tolist()\n",
    "all([tf in swissprotProteome for tf in humanTFs])"
   ]
  },
  {
   "cell_type": "markdown",
   "metadata": {},
   "source": [
    "## Extra code"
   ]
  },
  {
   "cell_type": "markdown",
   "metadata": {},
   "source": [
    "Extract sequences based on BED-like table"
   ]
  },
  {
   "cell_type": "code",
   "execution_count": null,
   "metadata": {},
   "outputs": [],
   "source": [
    "tiles['seq'] = [yeastTFs_seqs.loc[row['protein'], 'seq'][row['start']:row['end']] for _, row in tiles.iterrows()]\n",
    "tiles = tiles[['protein', 'start', 'end', 'seq']]"
   ]
  },
  {
   "cell_type": "markdown",
   "metadata": {},
   "source": [
    "### Old code"
   ]
  },
  {
   "cell_type": "code",
   "execution_count": null,
   "metadata": {},
   "outputs": [],
   "source": [
    "for yeastTF in yeastTFs:\n",
    "    yeastTF_seqFile = os.path.join(paths['dirDataRaw'], 'interpro', 'proteins', yeastTF + '.tsv.gz')\n",
    "    yeastTF_annotFile = os.path.join(paths['dirDataRaw'], 'interpro', 'proteins', yeastTF + '.fa.gz')\n",
    "    if not (os.path.exists(tf_info_file) and os.path.exists(tf_seq_file)):\n",
    "        print(f'Downloading InterPro FASTA sequence and annotation table for {yeastTF}.')\n",
    "        seq = downloadBio.get_InterPro_protein(yeastTF, export='fasta')\n",
    "        with gzip.open(tf_seq_file, 'wt') as f:\n",
    "            f.write(seq)\n",
    "        annot = downloadBio.get_InterPro_protein(yeastTF, export='tsv')\n",
    "        annot.to_csv(yeastTF_seqFile, sep='\\t', index=False)         "
   ]
  },
  {
   "cell_type": "code",
   "execution_count": null,
   "metadata": {},
   "outputs": [],
   "source": [
    "for yeastTF in yeastTFs:\n",
    "    yeastTF_annotFile = os.path.join(paths['dirDataRaw'], 'interpro', 'proteins', yeastTF + '.tsv.gz')\n",
    "    yeastTF_bedFile = os.path.join(paths['dirDataAux'], 'yeastTFs_BED', yeastTF + '.bed.gz')\n",
    "\n",
    "    if reprocess or not os.path.exists(yeastTF_bedFile):\n",
    "        df = pd.read_csv(yeastTF_annotFile, sep='\\t', header=0, index_col=False) \\\n",
    "               .rename({'Protein Accession': 'protein', 'Start Position': 'start', 'Stop Position': 'end'}, axis='columns')\n",
    "        df = df.loc[df['InterPro Entry ID'].isin(DBDs), ['protein', 'start', 'end']]\n",
    "        df['start'] -= 1\n",
    "        df.sort_values(['protein', 'start', 'end'], inplace=True)\n",
    "        df.to_csv(yeastTF_bedFile, sep='\\t', header=False, index=False)\n",
    "        pybedtools.BedTool(yeastTF_bedFile).merge().saveas(yeastTFs_annotDBDFile)"
   ]
  },
  {
   "cell_type": "code",
   "execution_count": null,
   "metadata": {},
   "outputs": [],
   "source": [
    "def tileSeq(seq, length, overlap, bed):\n",
    "    # assert ((bed['start'] >= 0).all() and (bed['end'] <= len(seq)).all())\n",
    "    if len(seq) < 10:\n",
    "        warnings.warn('Total sequence length < 10 AA.')\n",
    "    \n",
    "    #tiles = pd.DataFrame(columns=['protein', 'start', 'end', 'seq', 'percentIsDBD', 'percentOfDBD'])\n",
    "    tiles = []\n",
    "    seqLen = len(seq)\n",
    "    start = 0\n",
    "    \n",
    "    if seqLen < length:\n",
    "        tile = seq\n",
    "        end = seqLen\n",
    "        percentIsDBD, DBDs_overlapped = DBD_overlap(start, end, bed)\n",
    "        tiles.append((start, end, seq, percentIsDBD, DBDs_overlapped))\n",
    "    else:\n",
    "        end = start + length\n",
    "        while end < seqLen:\n",
    "            percentIsDBD, DBDs_overlapped = DBD_overlap(start, end, bed)\n",
    "            tiles.append((start, end, seq[start:end], percentIsDBD, DBDs_overlapped))\n",
    "            start = start + length - overlap\n",
    "            end = end + length - overlap\n",
    "        percentIsDBD, DBDs_overlapped = DBD_overlap(start, end, bed)\n",
    "        tiles.append((start, seqLen, seq[start:], percentIsDBD, DBDs_overlapped))\n",
    "    \n",
    "    tiles = pd.DataFrame(tiles, columns=['start', 'end', 'seq', 'percentIsDBD', 'DBDs_overlapped'])\n",
    "    return tiles"
   ]
  },
  {
   "cell_type": "code",
   "execution_count": null,
   "metadata": {},
   "outputs": [],
   "source": [
    "def DBD_overlap(start, end, bed=None):\n",
    "    if bed is None:\n",
    "        return (0, '')\n",
    "    DBDs_overlapped = []\n",
    "    lengthIsDBD = 0\n",
    "    for _, row in bed.iterrows():\n",
    "        if (start <= row['start']) and (end > row['start']):\n",
    "            if (end >= row['end']):\n",
    "                # region entirely wraps DBD\n",
    "                DBDs_overlapped.append('1')\n",
    "            else:\n",
    "                # region extends into DBD\n",
    "                DBDs_overlapped.append('{:.2f}'.format((end-row['start'])/(row['end']-row['start'])))\n",
    "                lengthIsDBD += end - row['start']\n",
    "        elif (start > row['start']) and (start < row['end']):\n",
    "            if (end <= row['end']):\n",
    "                # region entirely within DBD\n",
    "                DBDs_overlapped.append('{:.2f}'.format((end-start)/(row['end']-row['start'])))\n",
    "                lengthIsDBD += end - start\n",
    "            else:\n",
    "                # region extends beyond DBD\n",
    "                DBDs_overlapped.append('{:.2f}'.format((row['end'] - start)/(row['end']-row['start'])))\n",
    "                lengthIsDBD += row['end'] - start\n",
    "            \n",
    "    percentIsDBD = lengthIsDBD / (end-start)\n",
    "    DBDs_overlapped = ','.join(DBDs_overlapped)\n",
    "    return (percentIsDBD, DBDs_overlapped)"
   ]
  }
 ],
 "metadata": {
  "kernelspec": {
   "display_name": "Python 3",
   "language": "python",
   "name": "python3"
  },
  "language_info": {
   "codemirror_mode": {
    "name": "ipython",
    "version": 3
   },
   "file_extension": ".py",
   "mimetype": "text/x-python",
   "name": "python",
   "nbconvert_exporter": "python",
   "pygments_lexer": "ipython3",
   "version": "3.7.1"
  }
 },
 "nbformat": 4,
 "nbformat_minor": 2
}
